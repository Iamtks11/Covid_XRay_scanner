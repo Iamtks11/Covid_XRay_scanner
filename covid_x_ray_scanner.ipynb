{
  "metadata": {
    "kernelspec": {
      "language": "python",
      "display_name": "Python 3",
      "name": "python3"
    },
    "language_info": {
      "name": "python",
      "version": "3.7.12",
      "mimetype": "text/x-python",
      "codemirror_mode": {
        "name": "ipython",
        "version": 3
      },
      "pygments_lexer": "ipython3",
      "nbconvert_exporter": "python",
      "file_extension": ".py"
    },
    "colab": {
      "name": "covid-x-ray-scanner.ipynb",
      "provenance": []
    },
    "accelerator": "GPU"
  },
  "nbformat_minor": 0,
  "nbformat": 4,
  "cells": [
    {
      "cell_type": "markdown",
      "source": [
        "# Import Required Libraries for Data Processing"
      ],
      "metadata": {
        "id": "dCilo9jwdLxz"
      }
    },
    {
      "cell_type": "code",
      "source": [
        "import os\n",
        "import numpy as np\n",
        "import pandas as pd\n",
        "import matplotlib.pyplot as plt"
      ],
      "metadata": {
        "_uuid": "8f2839f25d086af736a60e9eeb907d3b93b6e0e5",
        "_cell_guid": "b1076dfc-b9ad-4769-8c92-a6c4dae69d19",
        "execution": {
          "iopub.status.busy": "2022-04-16T10:31:00.503650Z",
          "iopub.execute_input": "2022-04-16T10:31:00.504035Z",
          "iopub.status.idle": "2022-04-16T10:31:00.530429Z",
          "shell.execute_reply.started": "2022-04-16T10:31:00.503936Z",
          "shell.execute_reply": "2022-04-16T10:31:00.529772Z"
        },
        "trusted": true,
        "id": "6AVrBwAmdLx4"
      },
      "execution_count": 1,
      "outputs": []
    },
    {
      "cell_type": "markdown",
      "source": [
        "# Download Datasets using Kaggle API\n",
        "Create kaggle api key"
      ],
      "metadata": {
        "id": "s0I169fLdLx5"
      }
    },
    {
      "cell_type": "code",
      "source": [
        "!echo \"{\\\"username\\\":\\\"tusharkhorwal\\\",\\\"key\\\":\\\"e6c399a380126eca927eab01327d774b\\\"}\" >> kaggle.json"
      ],
      "metadata": {
        "id": "6HiyhxNSstuX"
      },
      "execution_count": 2,
      "outputs": []
    },
    {
      "cell_type": "markdown",
      "source": [
        "Setup kaggle api"
      ],
      "metadata": {
        "id": "x-KtKr--bCrJ"
      }
    },
    {
      "cell_type": "code",
      "source": [
        "! pip install kaggle\n",
        "! mkdir ~/.kaggle\n",
        "! cp kaggle.json ~/.kaggle/\n",
        "! chmod 600 ~/.kaggle/kaggle.json"
      ],
      "metadata": {
        "colab": {
          "base_uri": "https://localhost:8080/"
        },
        "id": "qbxuZ1eEfRaQ",
        "outputId": "f9a2a517-cbc1-4175-ab8a-1fd6c05c04b8"
      },
      "execution_count": 3,
      "outputs": [
        {
          "output_type": "stream",
          "name": "stdout",
          "text": [
            "Requirement already satisfied: kaggle in /usr/local/lib/python3.7/dist-packages (1.5.12)\n",
            "Requirement already satisfied: tqdm in /usr/local/lib/python3.7/dist-packages (from kaggle) (4.64.0)\n",
            "Requirement already satisfied: certifi in /usr/local/lib/python3.7/dist-packages (from kaggle) (2021.10.8)\n",
            "Requirement already satisfied: python-dateutil in /usr/local/lib/python3.7/dist-packages (from kaggle) (2.8.2)\n",
            "Requirement already satisfied: requests in /usr/local/lib/python3.7/dist-packages (from kaggle) (2.23.0)\n",
            "Requirement already satisfied: urllib3 in /usr/local/lib/python3.7/dist-packages (from kaggle) (1.24.3)\n",
            "Requirement already satisfied: python-slugify in /usr/local/lib/python3.7/dist-packages (from kaggle) (6.1.1)\n",
            "Requirement already satisfied: six>=1.10 in /usr/local/lib/python3.7/dist-packages (from kaggle) (1.15.0)\n",
            "Requirement already satisfied: text-unidecode>=1.3 in /usr/local/lib/python3.7/dist-packages (from python-slugify->kaggle) (1.3)\n",
            "Requirement already satisfied: idna<3,>=2.5 in /usr/local/lib/python3.7/dist-packages (from requests->kaggle) (2.10)\n",
            "Requirement already satisfied: chardet<4,>=3.0.2 in /usr/local/lib/python3.7/dist-packages (from requests->kaggle) (3.0.4)\n"
          ]
        }
      ]
    },
    {
      "cell_type": "markdown",
      "source": [
        "Unzip downloaded files"
      ],
      "metadata": {
        "id": "qCwirSpLcTY9"
      }
    },
    {
      "cell_type": "code",
      "source": [
        "!kaggle datasets download -d prashant268/chest-xray-covid19-pneumonia\n",
        "!kaggle datasets download -d tawsifurrahman/covid19-radiography-database"
      ],
      "metadata": {
        "colab": {
          "base_uri": "https://localhost:8080/"
        },
        "id": "OZjK1wTjffB2",
        "outputId": "1172a3c9-54be-44ca-95d0-5049b0803356"
      },
      "execution_count": 4,
      "outputs": [
        {
          "output_type": "stream",
          "name": "stdout",
          "text": [
            "Downloading chest-xray-covid19-pneumonia.zip to /content\n",
            "100% 2.05G/2.06G [00:19<00:00, 81.3MB/s]\n",
            "100% 2.06G/2.06G [00:19<00:00, 111MB/s] \n",
            "Downloading covid19-radiography-database.zip to /content\n",
            " 98% 764M/778M [00:06<00:00, 155MB/s]\n",
            "100% 778M/778M [00:06<00:00, 120MB/s]\n"
          ]
        }
      ]
    },
    {
      "cell_type": "markdown",
      "source": [
        "Download datasets"
      ],
      "metadata": {
        "id": "ajdkU-QccRJH"
      }
    },
    {
      "cell_type": "code",
      "source": [
        "!unzip chest-xray-covid19-pneumonia\n",
        "!unzip covid19-radiography-database"
      ],
      "metadata": {
        "id": "BRDQ_10gf61n"
      },
      "execution_count": null,
      "outputs": []
    },
    {
      "cell_type": "markdown",
      "source": [
        "# Read Excel files using pandas\n",
        "read excel files from COVID-19_Radiography_Dataset which contains info about image filenames and add label COVID, NORMAL or PNEUMONIA"
      ],
      "metadata": {
        "id": "ilm7vZHndLx6"
      }
    },
    {
      "cell_type": "code",
      "source": [
        "train_cov=pd.read_excel(\"/content/COVID-19_Radiography_Dataset/COVID.metadata.xlsx\")\n",
        "train_cov[\"label\"]= \"COVID\"\n",
        "train_nor=pd.read_excel(\"/content/COVID-19_Radiography_Dataset/Normal.metadata.xlsx\").sample(4192)\n",
        "train_nor[\"label\"]= \"NORMAL\"\n",
        "train_pneu=pd.read_excel(\"/content/COVID-19_Radiography_Dataset/Viral Pneumonia.metadata.xlsx\")\n",
        "train_pneu[\"label\"]= \"PNEUMONIA\""
      ],
      "metadata": {
        "execution": {
          "iopub.status.busy": "2022-04-16T10:31:13.759532Z",
          "iopub.execute_input": "2022-04-16T10:31:13.759886Z",
          "iopub.status.idle": "2022-04-16T10:31:15.916742Z",
          "shell.execute_reply.started": "2022-04-16T10:31:13.759837Z",
          "shell.execute_reply": "2022-04-16T10:31:15.915730Z"
        },
        "trusted": true,
        "id": "SJ-GQ5O_dLx6"
      },
      "execution_count": 6,
      "outputs": []
    },
    {
      "cell_type": "markdown",
      "source": [
        "**Excel file of Normal category**"
      ],
      "metadata": {
        "id": "AZELeUWjdLx7"
      }
    },
    {
      "cell_type": "code",
      "source": [
        "train_pneu"
      ],
      "metadata": {
        "execution": {
          "iopub.status.busy": "2022-04-16T10:48:25.439175Z",
          "iopub.execute_input": "2022-04-16T10:48:25.439494Z",
          "iopub.status.idle": "2022-04-16T10:48:25.455386Z",
          "shell.execute_reply.started": "2022-04-16T10:48:25.439460Z",
          "shell.execute_reply": "2022-04-16T10:48:25.454525Z"
        },
        "trusted": true,
        "id": "moHJobLedLx7",
        "colab": {
          "base_uri": "https://localhost:8080/",
          "height": 654
        },
        "outputId": "7cb6effe-961e-4928-eded-ac6445b10cdb"
      },
      "execution_count": 7,
      "outputs": [
        {
          "output_type": "execute_result",
          "data": {
            "text/plain": [
              "                 FILE NAME FORMAT     SIZE  \\\n",
              "0        Viral Pneumonia-1    PNG  256*256   \n",
              "1        Viral Pneumonia-2    PNG  256*256   \n",
              "2        Viral Pneumonia-3    PNG  256*256   \n",
              "3        Viral Pneumonia-4    PNG  256*256   \n",
              "4        Viral Pneumonia-5    PNG  256*256   \n",
              "...                    ...    ...      ...   \n",
              "1340  Viral Pneumonia-1341    PNG  256*256   \n",
              "1341  Viral Pneumonia-1342    PNG  256*256   \n",
              "1342  Viral Pneumonia-1343    PNG  256*256   \n",
              "1343  Viral Pneumonia-1344    PNG  256*256   \n",
              "1344  Viral Pneumonia-1345    PNG  256*256   \n",
              "\n",
              "                                                    URL      label  \n",
              "0     https://www.kaggle.com/paultimothymooney/chest...  PNEUMONIA  \n",
              "1     https://www.kaggle.com/paultimothymooney/chest...  PNEUMONIA  \n",
              "2     https://www.kaggle.com/paultimothymooney/chest...  PNEUMONIA  \n",
              "3     https://www.kaggle.com/paultimothymooney/chest...  PNEUMONIA  \n",
              "4     https://www.kaggle.com/paultimothymooney/chest...  PNEUMONIA  \n",
              "...                                                 ...        ...  \n",
              "1340  https://www.kaggle.com/paultimothymooney/chest...  PNEUMONIA  \n",
              "1341  https://www.kaggle.com/paultimothymooney/chest...  PNEUMONIA  \n",
              "1342  https://www.kaggle.com/paultimothymooney/chest...  PNEUMONIA  \n",
              "1343  https://www.kaggle.com/paultimothymooney/chest...  PNEUMONIA  \n",
              "1344  https://www.kaggle.com/paultimothymooney/chest...  PNEUMONIA  \n",
              "\n",
              "[1345 rows x 5 columns]"
            ],
            "text/html": [
              "\n",
              "  <div id=\"df-35a6e752-5f47-42ea-9d9d-38cd51d3b0b1\">\n",
              "    <div class=\"colab-df-container\">\n",
              "      <div>\n",
              "<style scoped>\n",
              "    .dataframe tbody tr th:only-of-type {\n",
              "        vertical-align: middle;\n",
              "    }\n",
              "\n",
              "    .dataframe tbody tr th {\n",
              "        vertical-align: top;\n",
              "    }\n",
              "\n",
              "    .dataframe thead th {\n",
              "        text-align: right;\n",
              "    }\n",
              "</style>\n",
              "<table border=\"1\" class=\"dataframe\">\n",
              "  <thead>\n",
              "    <tr style=\"text-align: right;\">\n",
              "      <th></th>\n",
              "      <th>FILE NAME</th>\n",
              "      <th>FORMAT</th>\n",
              "      <th>SIZE</th>\n",
              "      <th>URL</th>\n",
              "      <th>label</th>\n",
              "    </tr>\n",
              "  </thead>\n",
              "  <tbody>\n",
              "    <tr>\n",
              "      <th>0</th>\n",
              "      <td>Viral Pneumonia-1</td>\n",
              "      <td>PNG</td>\n",
              "      <td>256*256</td>\n",
              "      <td>https://www.kaggle.com/paultimothymooney/chest...</td>\n",
              "      <td>PNEUMONIA</td>\n",
              "    </tr>\n",
              "    <tr>\n",
              "      <th>1</th>\n",
              "      <td>Viral Pneumonia-2</td>\n",
              "      <td>PNG</td>\n",
              "      <td>256*256</td>\n",
              "      <td>https://www.kaggle.com/paultimothymooney/chest...</td>\n",
              "      <td>PNEUMONIA</td>\n",
              "    </tr>\n",
              "    <tr>\n",
              "      <th>2</th>\n",
              "      <td>Viral Pneumonia-3</td>\n",
              "      <td>PNG</td>\n",
              "      <td>256*256</td>\n",
              "      <td>https://www.kaggle.com/paultimothymooney/chest...</td>\n",
              "      <td>PNEUMONIA</td>\n",
              "    </tr>\n",
              "    <tr>\n",
              "      <th>3</th>\n",
              "      <td>Viral Pneumonia-4</td>\n",
              "      <td>PNG</td>\n",
              "      <td>256*256</td>\n",
              "      <td>https://www.kaggle.com/paultimothymooney/chest...</td>\n",
              "      <td>PNEUMONIA</td>\n",
              "    </tr>\n",
              "    <tr>\n",
              "      <th>4</th>\n",
              "      <td>Viral Pneumonia-5</td>\n",
              "      <td>PNG</td>\n",
              "      <td>256*256</td>\n",
              "      <td>https://www.kaggle.com/paultimothymooney/chest...</td>\n",
              "      <td>PNEUMONIA</td>\n",
              "    </tr>\n",
              "    <tr>\n",
              "      <th>...</th>\n",
              "      <td>...</td>\n",
              "      <td>...</td>\n",
              "      <td>...</td>\n",
              "      <td>...</td>\n",
              "      <td>...</td>\n",
              "    </tr>\n",
              "    <tr>\n",
              "      <th>1340</th>\n",
              "      <td>Viral Pneumonia-1341</td>\n",
              "      <td>PNG</td>\n",
              "      <td>256*256</td>\n",
              "      <td>https://www.kaggle.com/paultimothymooney/chest...</td>\n",
              "      <td>PNEUMONIA</td>\n",
              "    </tr>\n",
              "    <tr>\n",
              "      <th>1341</th>\n",
              "      <td>Viral Pneumonia-1342</td>\n",
              "      <td>PNG</td>\n",
              "      <td>256*256</td>\n",
              "      <td>https://www.kaggle.com/paultimothymooney/chest...</td>\n",
              "      <td>PNEUMONIA</td>\n",
              "    </tr>\n",
              "    <tr>\n",
              "      <th>1342</th>\n",
              "      <td>Viral Pneumonia-1343</td>\n",
              "      <td>PNG</td>\n",
              "      <td>256*256</td>\n",
              "      <td>https://www.kaggle.com/paultimothymooney/chest...</td>\n",
              "      <td>PNEUMONIA</td>\n",
              "    </tr>\n",
              "    <tr>\n",
              "      <th>1343</th>\n",
              "      <td>Viral Pneumonia-1344</td>\n",
              "      <td>PNG</td>\n",
              "      <td>256*256</td>\n",
              "      <td>https://www.kaggle.com/paultimothymooney/chest...</td>\n",
              "      <td>PNEUMONIA</td>\n",
              "    </tr>\n",
              "    <tr>\n",
              "      <th>1344</th>\n",
              "      <td>Viral Pneumonia-1345</td>\n",
              "      <td>PNG</td>\n",
              "      <td>256*256</td>\n",
              "      <td>https://www.kaggle.com/paultimothymooney/chest...</td>\n",
              "      <td>PNEUMONIA</td>\n",
              "    </tr>\n",
              "  </tbody>\n",
              "</table>\n",
              "<p>1345 rows × 5 columns</p>\n",
              "</div>\n",
              "      <button class=\"colab-df-convert\" onclick=\"convertToInteractive('df-35a6e752-5f47-42ea-9d9d-38cd51d3b0b1')\"\n",
              "              title=\"Convert this dataframe to an interactive table.\"\n",
              "              style=\"display:none;\">\n",
              "        \n",
              "  <svg xmlns=\"http://www.w3.org/2000/svg\" height=\"24px\"viewBox=\"0 0 24 24\"\n",
              "       width=\"24px\">\n",
              "    <path d=\"M0 0h24v24H0V0z\" fill=\"none\"/>\n",
              "    <path d=\"M18.56 5.44l.94 2.06.94-2.06 2.06-.94-2.06-.94-.94-2.06-.94 2.06-2.06.94zm-11 1L8.5 8.5l.94-2.06 2.06-.94-2.06-.94L8.5 2.5l-.94 2.06-2.06.94zm10 10l.94 2.06.94-2.06 2.06-.94-2.06-.94-.94-2.06-.94 2.06-2.06.94z\"/><path d=\"M17.41 7.96l-1.37-1.37c-.4-.4-.92-.59-1.43-.59-.52 0-1.04.2-1.43.59L10.3 9.45l-7.72 7.72c-.78.78-.78 2.05 0 2.83L4 21.41c.39.39.9.59 1.41.59.51 0 1.02-.2 1.41-.59l7.78-7.78 2.81-2.81c.8-.78.8-2.07 0-2.86zM5.41 20L4 18.59l7.72-7.72 1.47 1.35L5.41 20z\"/>\n",
              "  </svg>\n",
              "      </button>\n",
              "      \n",
              "  <style>\n",
              "    .colab-df-container {\n",
              "      display:flex;\n",
              "      flex-wrap:wrap;\n",
              "      gap: 12px;\n",
              "    }\n",
              "\n",
              "    .colab-df-convert {\n",
              "      background-color: #E8F0FE;\n",
              "      border: none;\n",
              "      border-radius: 50%;\n",
              "      cursor: pointer;\n",
              "      display: none;\n",
              "      fill: #1967D2;\n",
              "      height: 32px;\n",
              "      padding: 0 0 0 0;\n",
              "      width: 32px;\n",
              "    }\n",
              "\n",
              "    .colab-df-convert:hover {\n",
              "      background-color: #E2EBFA;\n",
              "      box-shadow: 0px 1px 2px rgba(60, 64, 67, 0.3), 0px 1px 3px 1px rgba(60, 64, 67, 0.15);\n",
              "      fill: #174EA6;\n",
              "    }\n",
              "\n",
              "    [theme=dark] .colab-df-convert {\n",
              "      background-color: #3B4455;\n",
              "      fill: #D2E3FC;\n",
              "    }\n",
              "\n",
              "    [theme=dark] .colab-df-convert:hover {\n",
              "      background-color: #434B5C;\n",
              "      box-shadow: 0px 1px 3px 1px rgba(0, 0, 0, 0.15);\n",
              "      filter: drop-shadow(0px 1px 2px rgba(0, 0, 0, 0.3));\n",
              "      fill: #FFFFFF;\n",
              "    }\n",
              "  </style>\n",
              "\n",
              "      <script>\n",
              "        const buttonEl =\n",
              "          document.querySelector('#df-35a6e752-5f47-42ea-9d9d-38cd51d3b0b1 button.colab-df-convert');\n",
              "        buttonEl.style.display =\n",
              "          google.colab.kernel.accessAllowed ? 'block' : 'none';\n",
              "\n",
              "        async function convertToInteractive(key) {\n",
              "          const element = document.querySelector('#df-35a6e752-5f47-42ea-9d9d-38cd51d3b0b1');\n",
              "          const dataTable =\n",
              "            await google.colab.kernel.invokeFunction('convertToInteractive',\n",
              "                                                     [key], {});\n",
              "          if (!dataTable) return;\n",
              "\n",
              "          const docLinkHtml = 'Like what you see? Visit the ' +\n",
              "            '<a target=\"_blank\" href=https://colab.research.google.com/notebooks/data_table.ipynb>data table notebook</a>'\n",
              "            + ' to learn more about interactive tables.';\n",
              "          element.innerHTML = '';\n",
              "          dataTable['output_type'] = 'display_data';\n",
              "          await google.colab.output.renderOutput(dataTable, element);\n",
              "          const docLink = document.createElement('div');\n",
              "          docLink.innerHTML = docLinkHtml;\n",
              "          element.appendChild(docLink);\n",
              "        }\n",
              "      </script>\n",
              "    </div>\n",
              "  </div>\n",
              "  "
            ]
          },
          "metadata": {},
          "execution_count": 7
        }
      ]
    },
    {
      "cell_type": "markdown",
      "source": [
        "# Generate dataframe for Pneumonia Images"
      ],
      "metadata": {
        "id": "r5ltlznUdLx8"
      }
    },
    {
      "cell_type": "markdown",
      "source": [
        "Fetch data from COVID-19_Radiography_Dataset"
      ],
      "metadata": {
        "id": "Kl1rgS9XdLx9"
      }
    },
    {
      "cell_type": "code",
      "source": [
        "train_dir='/content/COVID-19_Radiography_Dataset/Viral Pneumonia/images/'\n",
        "data=[]\n",
        "labels=[]\n",
        "for i in range(train_pneu.shape[0]):\n",
        "    data.append(train_dir+train_pneu['FILE NAME'].iloc[i]+'.png')\n",
        "    labels.append(train_pneu['label'].iloc[i])\n",
        "df_pneu=pd.DataFrame(data)\n",
        "df_pneu.columns=['images']\n",
        "df_pneu['target']=labels"
      ],
      "metadata": {
        "id": "2TMuM7qfdLx9"
      },
      "execution_count": 8,
      "outputs": []
    },
    {
      "cell_type": "code",
      "source": [
        "df_pneu"
      ],
      "metadata": {
        "id": "nkWrBTuWji7A",
        "colab": {
          "base_uri": "https://localhost:8080/",
          "height": 654
        },
        "outputId": "da7f84a0-cf99-4a62-968d-2bd8854e7835"
      },
      "execution_count": 9,
      "outputs": [
        {
          "output_type": "execute_result",
          "data": {
            "text/plain": [
              "                                                 images     target\n",
              "0     /content/COVID-19_Radiography_Dataset/Viral Pn...  PNEUMONIA\n",
              "1     /content/COVID-19_Radiography_Dataset/Viral Pn...  PNEUMONIA\n",
              "2     /content/COVID-19_Radiography_Dataset/Viral Pn...  PNEUMONIA\n",
              "3     /content/COVID-19_Radiography_Dataset/Viral Pn...  PNEUMONIA\n",
              "4     /content/COVID-19_Radiography_Dataset/Viral Pn...  PNEUMONIA\n",
              "...                                                 ...        ...\n",
              "1340  /content/COVID-19_Radiography_Dataset/Viral Pn...  PNEUMONIA\n",
              "1341  /content/COVID-19_Radiography_Dataset/Viral Pn...  PNEUMONIA\n",
              "1342  /content/COVID-19_Radiography_Dataset/Viral Pn...  PNEUMONIA\n",
              "1343  /content/COVID-19_Radiography_Dataset/Viral Pn...  PNEUMONIA\n",
              "1344  /content/COVID-19_Radiography_Dataset/Viral Pn...  PNEUMONIA\n",
              "\n",
              "[1345 rows x 2 columns]"
            ],
            "text/html": [
              "\n",
              "  <div id=\"df-f0fc3fb1-d3d3-48ec-9a43-45d5d10edd11\">\n",
              "    <div class=\"colab-df-container\">\n",
              "      <div>\n",
              "<style scoped>\n",
              "    .dataframe tbody tr th:only-of-type {\n",
              "        vertical-align: middle;\n",
              "    }\n",
              "\n",
              "    .dataframe tbody tr th {\n",
              "        vertical-align: top;\n",
              "    }\n",
              "\n",
              "    .dataframe thead th {\n",
              "        text-align: right;\n",
              "    }\n",
              "</style>\n",
              "<table border=\"1\" class=\"dataframe\">\n",
              "  <thead>\n",
              "    <tr style=\"text-align: right;\">\n",
              "      <th></th>\n",
              "      <th>images</th>\n",
              "      <th>target</th>\n",
              "    </tr>\n",
              "  </thead>\n",
              "  <tbody>\n",
              "    <tr>\n",
              "      <th>0</th>\n",
              "      <td>/content/COVID-19_Radiography_Dataset/Viral Pn...</td>\n",
              "      <td>PNEUMONIA</td>\n",
              "    </tr>\n",
              "    <tr>\n",
              "      <th>1</th>\n",
              "      <td>/content/COVID-19_Radiography_Dataset/Viral Pn...</td>\n",
              "      <td>PNEUMONIA</td>\n",
              "    </tr>\n",
              "    <tr>\n",
              "      <th>2</th>\n",
              "      <td>/content/COVID-19_Radiography_Dataset/Viral Pn...</td>\n",
              "      <td>PNEUMONIA</td>\n",
              "    </tr>\n",
              "    <tr>\n",
              "      <th>3</th>\n",
              "      <td>/content/COVID-19_Radiography_Dataset/Viral Pn...</td>\n",
              "      <td>PNEUMONIA</td>\n",
              "    </tr>\n",
              "    <tr>\n",
              "      <th>4</th>\n",
              "      <td>/content/COVID-19_Radiography_Dataset/Viral Pn...</td>\n",
              "      <td>PNEUMONIA</td>\n",
              "    </tr>\n",
              "    <tr>\n",
              "      <th>...</th>\n",
              "      <td>...</td>\n",
              "      <td>...</td>\n",
              "    </tr>\n",
              "    <tr>\n",
              "      <th>1340</th>\n",
              "      <td>/content/COVID-19_Radiography_Dataset/Viral Pn...</td>\n",
              "      <td>PNEUMONIA</td>\n",
              "    </tr>\n",
              "    <tr>\n",
              "      <th>1341</th>\n",
              "      <td>/content/COVID-19_Radiography_Dataset/Viral Pn...</td>\n",
              "      <td>PNEUMONIA</td>\n",
              "    </tr>\n",
              "    <tr>\n",
              "      <th>1342</th>\n",
              "      <td>/content/COVID-19_Radiography_Dataset/Viral Pn...</td>\n",
              "      <td>PNEUMONIA</td>\n",
              "    </tr>\n",
              "    <tr>\n",
              "      <th>1343</th>\n",
              "      <td>/content/COVID-19_Radiography_Dataset/Viral Pn...</td>\n",
              "      <td>PNEUMONIA</td>\n",
              "    </tr>\n",
              "    <tr>\n",
              "      <th>1344</th>\n",
              "      <td>/content/COVID-19_Radiography_Dataset/Viral Pn...</td>\n",
              "      <td>PNEUMONIA</td>\n",
              "    </tr>\n",
              "  </tbody>\n",
              "</table>\n",
              "<p>1345 rows × 2 columns</p>\n",
              "</div>\n",
              "      <button class=\"colab-df-convert\" onclick=\"convertToInteractive('df-f0fc3fb1-d3d3-48ec-9a43-45d5d10edd11')\"\n",
              "              title=\"Convert this dataframe to an interactive table.\"\n",
              "              style=\"display:none;\">\n",
              "        \n",
              "  <svg xmlns=\"http://www.w3.org/2000/svg\" height=\"24px\"viewBox=\"0 0 24 24\"\n",
              "       width=\"24px\">\n",
              "    <path d=\"M0 0h24v24H0V0z\" fill=\"none\"/>\n",
              "    <path d=\"M18.56 5.44l.94 2.06.94-2.06 2.06-.94-2.06-.94-.94-2.06-.94 2.06-2.06.94zm-11 1L8.5 8.5l.94-2.06 2.06-.94-2.06-.94L8.5 2.5l-.94 2.06-2.06.94zm10 10l.94 2.06.94-2.06 2.06-.94-2.06-.94-.94-2.06-.94 2.06-2.06.94z\"/><path d=\"M17.41 7.96l-1.37-1.37c-.4-.4-.92-.59-1.43-.59-.52 0-1.04.2-1.43.59L10.3 9.45l-7.72 7.72c-.78.78-.78 2.05 0 2.83L4 21.41c.39.39.9.59 1.41.59.51 0 1.02-.2 1.41-.59l7.78-7.78 2.81-2.81c.8-.78.8-2.07 0-2.86zM5.41 20L4 18.59l7.72-7.72 1.47 1.35L5.41 20z\"/>\n",
              "  </svg>\n",
              "      </button>\n",
              "      \n",
              "  <style>\n",
              "    .colab-df-container {\n",
              "      display:flex;\n",
              "      flex-wrap:wrap;\n",
              "      gap: 12px;\n",
              "    }\n",
              "\n",
              "    .colab-df-convert {\n",
              "      background-color: #E8F0FE;\n",
              "      border: none;\n",
              "      border-radius: 50%;\n",
              "      cursor: pointer;\n",
              "      display: none;\n",
              "      fill: #1967D2;\n",
              "      height: 32px;\n",
              "      padding: 0 0 0 0;\n",
              "      width: 32px;\n",
              "    }\n",
              "\n",
              "    .colab-df-convert:hover {\n",
              "      background-color: #E2EBFA;\n",
              "      box-shadow: 0px 1px 2px rgba(60, 64, 67, 0.3), 0px 1px 3px 1px rgba(60, 64, 67, 0.15);\n",
              "      fill: #174EA6;\n",
              "    }\n",
              "\n",
              "    [theme=dark] .colab-df-convert {\n",
              "      background-color: #3B4455;\n",
              "      fill: #D2E3FC;\n",
              "    }\n",
              "\n",
              "    [theme=dark] .colab-df-convert:hover {\n",
              "      background-color: #434B5C;\n",
              "      box-shadow: 0px 1px 3px 1px rgba(0, 0, 0, 0.15);\n",
              "      filter: drop-shadow(0px 1px 2px rgba(0, 0, 0, 0.3));\n",
              "      fill: #FFFFFF;\n",
              "    }\n",
              "  </style>\n",
              "\n",
              "      <script>\n",
              "        const buttonEl =\n",
              "          document.querySelector('#df-f0fc3fb1-d3d3-48ec-9a43-45d5d10edd11 button.colab-df-convert');\n",
              "        buttonEl.style.display =\n",
              "          google.colab.kernel.accessAllowed ? 'block' : 'none';\n",
              "\n",
              "        async function convertToInteractive(key) {\n",
              "          const element = document.querySelector('#df-f0fc3fb1-d3d3-48ec-9a43-45d5d10edd11');\n",
              "          const dataTable =\n",
              "            await google.colab.kernel.invokeFunction('convertToInteractive',\n",
              "                                                     [key], {});\n",
              "          if (!dataTable) return;\n",
              "\n",
              "          const docLinkHtml = 'Like what you see? Visit the ' +\n",
              "            '<a target=\"_blank\" href=https://colab.research.google.com/notebooks/data_table.ipynb>data table notebook</a>'\n",
              "            + ' to learn more about interactive tables.';\n",
              "          element.innerHTML = '';\n",
              "          dataTable['output_type'] = 'display_data';\n",
              "          await google.colab.output.renderOutput(dataTable, element);\n",
              "          const docLink = document.createElement('div');\n",
              "          docLink.innerHTML = docLinkHtml;\n",
              "          element.appendChild(docLink);\n",
              "        }\n",
              "      </script>\n",
              "    </div>\n",
              "  </div>\n",
              "  "
            ]
          },
          "metadata": {},
          "execution_count": 9
        }
      ]
    },
    {
      "cell_type": "markdown",
      "source": [
        "Fetch data from chest-xray-covid19-pneumonia dataset"
      ],
      "metadata": {
        "id": "IjwEctjjdLx9"
      }
    },
    {
      "cell_type": "code",
      "source": [
        "image_count = 0\n",
        "pneu_data = []\n",
        "for dirname, _, filenames in os.walk('/content/Data/train/PNEUMONIA'):\n",
        "    for filename in filenames:\n",
        "        image_count = image_count + 1\n",
        "        if image_count<=2847:\n",
        "            pneu_data.append(os.path.join(dirname, filename))"
      ],
      "metadata": {
        "execution": {
          "iopub.status.busy": "2022-04-16T10:37:10.879805Z",
          "iopub.execute_input": "2022-04-16T10:37:10.880460Z",
          "iopub.status.idle": "2022-04-16T10:37:11.378860Z",
          "shell.execute_reply.started": "2022-04-16T10:37:10.880401Z",
          "shell.execute_reply": "2022-04-16T10:37:11.378205Z"
        },
        "trusted": true,
        "id": "O2dmLKIWdLx-"
      },
      "execution_count": 10,
      "outputs": []
    },
    {
      "cell_type": "code",
      "source": [
        "df_pneu2 = pd.DataFrame(pneu_data)"
      ],
      "metadata": {
        "execution": {
          "iopub.status.busy": "2022-04-16T10:37:18.911267Z",
          "iopub.execute_input": "2022-04-16T10:37:18.911749Z",
          "iopub.status.idle": "2022-04-16T10:37:18.916032Z",
          "shell.execute_reply.started": "2022-04-16T10:37:18.911698Z",
          "shell.execute_reply": "2022-04-16T10:37:18.915222Z"
        },
        "trusted": true,
        "id": "W-dkQYl_dLx-"
      },
      "execution_count": 11,
      "outputs": []
    },
    {
      "cell_type": "code",
      "source": [
        "df_pneu2.rename(columns = {0:'images'}, inplace = True)\n",
        "df_pneu2[\"target\"] = \"PNEUMONIA\""
      ],
      "metadata": {
        "execution": {
          "iopub.status.busy": "2022-04-16T10:37:21.742059Z",
          "iopub.execute_input": "2022-04-16T10:37:21.742636Z",
          "iopub.status.idle": "2022-04-16T10:37:21.747776Z",
          "shell.execute_reply.started": "2022-04-16T10:37:21.742599Z",
          "shell.execute_reply": "2022-04-16T10:37:21.746911Z"
        },
        "trusted": true,
        "id": "SIq-FtfidLx-"
      },
      "execution_count": 12,
      "outputs": []
    },
    {
      "cell_type": "code",
      "source": [
        "df_pneu2"
      ],
      "metadata": {
        "execution": {
          "iopub.status.busy": "2022-04-16T10:37:25.476474Z",
          "iopub.execute_input": "2022-04-16T10:37:25.477309Z",
          "iopub.status.idle": "2022-04-16T10:37:25.489660Z",
          "shell.execute_reply.started": "2022-04-16T10:37:25.477267Z",
          "shell.execute_reply": "2022-04-16T10:37:25.488793Z"
        },
        "trusted": true,
        "id": "RgyMqGWNdLx-",
        "colab": {
          "base_uri": "https://localhost:8080/",
          "height": 654
        },
        "outputId": "25e47b53-5866-4aca-85be-99eef7e5c0f9"
      },
      "execution_count": 13,
      "outputs": [
        {
          "output_type": "execute_result",
          "data": {
            "text/plain": [
              "                                                 images     target\n",
              "0      /content/Data/train/PNEUMONIA/PNEUMONIA(122).jpg  PNEUMONIA\n",
              "1     /content/Data/train/PNEUMONIA/PNEUMONIA(3060).jpg  PNEUMONIA\n",
              "2      /content/Data/train/PNEUMONIA/PNEUMONIA(328).jpg  PNEUMONIA\n",
              "3      /content/Data/train/PNEUMONIA/PNEUMONIA(297).jpg  PNEUMONIA\n",
              "4     /content/Data/train/PNEUMONIA/PNEUMONIA(3268).jpg  PNEUMONIA\n",
              "...                                                 ...        ...\n",
              "2842  /content/Data/train/PNEUMONIA/PNEUMONIA(2784).jpg  PNEUMONIA\n",
              "2843    /content/Data/train/PNEUMONIA/PNEUMONIA(28).jpg  PNEUMONIA\n",
              "2844  /content/Data/train/PNEUMONIA/PNEUMONIA(2125).jpg  PNEUMONIA\n",
              "2845  /content/Data/train/PNEUMONIA/PNEUMONIA(2980).jpg  PNEUMONIA\n",
              "2846  /content/Data/train/PNEUMONIA/PNEUMONIA(2609).jpg  PNEUMONIA\n",
              "\n",
              "[2847 rows x 2 columns]"
            ],
            "text/html": [
              "\n",
              "  <div id=\"df-c9451ba3-e8a0-40ed-bcb6-ba1c1d4e2344\">\n",
              "    <div class=\"colab-df-container\">\n",
              "      <div>\n",
              "<style scoped>\n",
              "    .dataframe tbody tr th:only-of-type {\n",
              "        vertical-align: middle;\n",
              "    }\n",
              "\n",
              "    .dataframe tbody tr th {\n",
              "        vertical-align: top;\n",
              "    }\n",
              "\n",
              "    .dataframe thead th {\n",
              "        text-align: right;\n",
              "    }\n",
              "</style>\n",
              "<table border=\"1\" class=\"dataframe\">\n",
              "  <thead>\n",
              "    <tr style=\"text-align: right;\">\n",
              "      <th></th>\n",
              "      <th>images</th>\n",
              "      <th>target</th>\n",
              "    </tr>\n",
              "  </thead>\n",
              "  <tbody>\n",
              "    <tr>\n",
              "      <th>0</th>\n",
              "      <td>/content/Data/train/PNEUMONIA/PNEUMONIA(122).jpg</td>\n",
              "      <td>PNEUMONIA</td>\n",
              "    </tr>\n",
              "    <tr>\n",
              "      <th>1</th>\n",
              "      <td>/content/Data/train/PNEUMONIA/PNEUMONIA(3060).jpg</td>\n",
              "      <td>PNEUMONIA</td>\n",
              "    </tr>\n",
              "    <tr>\n",
              "      <th>2</th>\n",
              "      <td>/content/Data/train/PNEUMONIA/PNEUMONIA(328).jpg</td>\n",
              "      <td>PNEUMONIA</td>\n",
              "    </tr>\n",
              "    <tr>\n",
              "      <th>3</th>\n",
              "      <td>/content/Data/train/PNEUMONIA/PNEUMONIA(297).jpg</td>\n",
              "      <td>PNEUMONIA</td>\n",
              "    </tr>\n",
              "    <tr>\n",
              "      <th>4</th>\n",
              "      <td>/content/Data/train/PNEUMONIA/PNEUMONIA(3268).jpg</td>\n",
              "      <td>PNEUMONIA</td>\n",
              "    </tr>\n",
              "    <tr>\n",
              "      <th>...</th>\n",
              "      <td>...</td>\n",
              "      <td>...</td>\n",
              "    </tr>\n",
              "    <tr>\n",
              "      <th>2842</th>\n",
              "      <td>/content/Data/train/PNEUMONIA/PNEUMONIA(2784).jpg</td>\n",
              "      <td>PNEUMONIA</td>\n",
              "    </tr>\n",
              "    <tr>\n",
              "      <th>2843</th>\n",
              "      <td>/content/Data/train/PNEUMONIA/PNEUMONIA(28).jpg</td>\n",
              "      <td>PNEUMONIA</td>\n",
              "    </tr>\n",
              "    <tr>\n",
              "      <th>2844</th>\n",
              "      <td>/content/Data/train/PNEUMONIA/PNEUMONIA(2125).jpg</td>\n",
              "      <td>PNEUMONIA</td>\n",
              "    </tr>\n",
              "    <tr>\n",
              "      <th>2845</th>\n",
              "      <td>/content/Data/train/PNEUMONIA/PNEUMONIA(2980).jpg</td>\n",
              "      <td>PNEUMONIA</td>\n",
              "    </tr>\n",
              "    <tr>\n",
              "      <th>2846</th>\n",
              "      <td>/content/Data/train/PNEUMONIA/PNEUMONIA(2609).jpg</td>\n",
              "      <td>PNEUMONIA</td>\n",
              "    </tr>\n",
              "  </tbody>\n",
              "</table>\n",
              "<p>2847 rows × 2 columns</p>\n",
              "</div>\n",
              "      <button class=\"colab-df-convert\" onclick=\"convertToInteractive('df-c9451ba3-e8a0-40ed-bcb6-ba1c1d4e2344')\"\n",
              "              title=\"Convert this dataframe to an interactive table.\"\n",
              "              style=\"display:none;\">\n",
              "        \n",
              "  <svg xmlns=\"http://www.w3.org/2000/svg\" height=\"24px\"viewBox=\"0 0 24 24\"\n",
              "       width=\"24px\">\n",
              "    <path d=\"M0 0h24v24H0V0z\" fill=\"none\"/>\n",
              "    <path d=\"M18.56 5.44l.94 2.06.94-2.06 2.06-.94-2.06-.94-.94-2.06-.94 2.06-2.06.94zm-11 1L8.5 8.5l.94-2.06 2.06-.94-2.06-.94L8.5 2.5l-.94 2.06-2.06.94zm10 10l.94 2.06.94-2.06 2.06-.94-2.06-.94-.94-2.06-.94 2.06-2.06.94z\"/><path d=\"M17.41 7.96l-1.37-1.37c-.4-.4-.92-.59-1.43-.59-.52 0-1.04.2-1.43.59L10.3 9.45l-7.72 7.72c-.78.78-.78 2.05 0 2.83L4 21.41c.39.39.9.59 1.41.59.51 0 1.02-.2 1.41-.59l7.78-7.78 2.81-2.81c.8-.78.8-2.07 0-2.86zM5.41 20L4 18.59l7.72-7.72 1.47 1.35L5.41 20z\"/>\n",
              "  </svg>\n",
              "      </button>\n",
              "      \n",
              "  <style>\n",
              "    .colab-df-container {\n",
              "      display:flex;\n",
              "      flex-wrap:wrap;\n",
              "      gap: 12px;\n",
              "    }\n",
              "\n",
              "    .colab-df-convert {\n",
              "      background-color: #E8F0FE;\n",
              "      border: none;\n",
              "      border-radius: 50%;\n",
              "      cursor: pointer;\n",
              "      display: none;\n",
              "      fill: #1967D2;\n",
              "      height: 32px;\n",
              "      padding: 0 0 0 0;\n",
              "      width: 32px;\n",
              "    }\n",
              "\n",
              "    .colab-df-convert:hover {\n",
              "      background-color: #E2EBFA;\n",
              "      box-shadow: 0px 1px 2px rgba(60, 64, 67, 0.3), 0px 1px 3px 1px rgba(60, 64, 67, 0.15);\n",
              "      fill: #174EA6;\n",
              "    }\n",
              "\n",
              "    [theme=dark] .colab-df-convert {\n",
              "      background-color: #3B4455;\n",
              "      fill: #D2E3FC;\n",
              "    }\n",
              "\n",
              "    [theme=dark] .colab-df-convert:hover {\n",
              "      background-color: #434B5C;\n",
              "      box-shadow: 0px 1px 3px 1px rgba(0, 0, 0, 0.15);\n",
              "      filter: drop-shadow(0px 1px 2px rgba(0, 0, 0, 0.3));\n",
              "      fill: #FFFFFF;\n",
              "    }\n",
              "  </style>\n",
              "\n",
              "      <script>\n",
              "        const buttonEl =\n",
              "          document.querySelector('#df-c9451ba3-e8a0-40ed-bcb6-ba1c1d4e2344 button.colab-df-convert');\n",
              "        buttonEl.style.display =\n",
              "          google.colab.kernel.accessAllowed ? 'block' : 'none';\n",
              "\n",
              "        async function convertToInteractive(key) {\n",
              "          const element = document.querySelector('#df-c9451ba3-e8a0-40ed-bcb6-ba1c1d4e2344');\n",
              "          const dataTable =\n",
              "            await google.colab.kernel.invokeFunction('convertToInteractive',\n",
              "                                                     [key], {});\n",
              "          if (!dataTable) return;\n",
              "\n",
              "          const docLinkHtml = 'Like what you see? Visit the ' +\n",
              "            '<a target=\"_blank\" href=https://colab.research.google.com/notebooks/data_table.ipynb>data table notebook</a>'\n",
              "            + ' to learn more about interactive tables.';\n",
              "          element.innerHTML = '';\n",
              "          dataTable['output_type'] = 'display_data';\n",
              "          await google.colab.output.renderOutput(dataTable, element);\n",
              "          const docLink = document.createElement('div');\n",
              "          docLink.innerHTML = docLinkHtml;\n",
              "          element.appendChild(docLink);\n",
              "        }\n",
              "      </script>\n",
              "    </div>\n",
              "  </div>\n",
              "  "
            ]
          },
          "metadata": {},
          "execution_count": 13
        }
      ]
    },
    {
      "cell_type": "markdown",
      "source": [
        "# Generate dataframe for Covid Images"
      ],
      "metadata": {
        "id": "BnF8Qw05dLx_"
      }
    },
    {
      "cell_type": "markdown",
      "source": [
        "Fetching data from chest-xray-covid19-pneumonia dataset"
      ],
      "metadata": {
        "id": "MaL73OfWdLx_"
      }
    },
    {
      "cell_type": "code",
      "source": [
        "import os\n",
        "import pandas as pd\n",
        "cov_data = []\n",
        "x = 0\n",
        "for dirname, _, filenames in os.walk('/content/Data/train/COVID19'):\n",
        "    for filename in filenames:\n",
        "            cov_data.append(os.path.join(dirname, filename))\n",
        "for dirname, _, filenames in os.walk('/content/Data/test/COVID19'):\n",
        "    for filename in filenames:\n",
        "            cov_data.append(os.path.join(dirname, filename))"
      ],
      "metadata": {
        "execution": {
          "iopub.status.busy": "2022-04-16T10:37:28.993241Z",
          "iopub.execute_input": "2022-04-16T10:37:28.993552Z",
          "iopub.status.idle": "2022-04-16T10:37:29.201476Z",
          "shell.execute_reply.started": "2022-04-16T10:37:28.993517Z",
          "shell.execute_reply": "2022-04-16T10:37:29.200526Z"
        },
        "trusted": true,
        "id": "1N1m8nokdLx_"
      },
      "execution_count": 14,
      "outputs": []
    },
    {
      "cell_type": "code",
      "source": [
        "df_cov2 = pd.DataFrame(cov_data)\n",
        "df_cov2.rename(columns = {0:'images'}, inplace = True)\n",
        "df_cov2[\"target\"] = \"COVID\""
      ],
      "metadata": {
        "execution": {
          "iopub.status.busy": "2022-04-16T10:37:32.203837Z",
          "iopub.execute_input": "2022-04-16T10:37:32.204139Z",
          "iopub.status.idle": "2022-04-16T10:37:32.210769Z",
          "shell.execute_reply.started": "2022-04-16T10:37:32.204103Z",
          "shell.execute_reply": "2022-04-16T10:37:32.209812Z"
        },
        "trusted": true,
        "id": "pSiToME_dLyA"
      },
      "execution_count": 15,
      "outputs": []
    },
    {
      "cell_type": "code",
      "source": [
        "df_cov2"
      ],
      "metadata": {
        "execution": {
          "iopub.status.busy": "2022-04-16T10:37:35.276841Z",
          "iopub.execute_input": "2022-04-16T10:37:35.277206Z",
          "iopub.status.idle": "2022-04-16T10:37:35.294825Z",
          "shell.execute_reply.started": "2022-04-16T10:37:35.277170Z",
          "shell.execute_reply": "2022-04-16T10:37:35.293808Z"
        },
        "trusted": true,
        "id": "sI55W7CodLyA",
        "colab": {
          "base_uri": "https://localhost:8080/",
          "height": 654
        },
        "outputId": "bd3a64ca-59ac-4c52-d361-6a6bf2c4b1ae"
      },
      "execution_count": 16,
      "outputs": [
        {
          "output_type": "execute_result",
          "data": {
            "text/plain": [
              "                                           images target\n",
              "0    /content/Data/train/COVID19/COVID19(189).jpg  COVID\n",
              "1     /content/Data/train/COVID19/COVID19(95).jpg  COVID\n",
              "2    /content/Data/train/COVID19/COVID19(252).jpg  COVID\n",
              "3    /content/Data/train/COVID19/COVID19(155).jpg  COVID\n",
              "4    /content/Data/train/COVID19/COVID19(109).jpg  COVID\n",
              "..                                            ...    ...\n",
              "571   /content/Data/test/COVID19/COVID19(472).jpg  COVID\n",
              "572   /content/Data/test/COVID19/COVID19(531).jpg  COVID\n",
              "573   /content/Data/test/COVID19/COVID19(503).jpg  COVID\n",
              "574   /content/Data/test/COVID19/COVID19(529).jpg  COVID\n",
              "575   /content/Data/test/COVID19/COVID19(497).jpg  COVID\n",
              "\n",
              "[576 rows x 2 columns]"
            ],
            "text/html": [
              "\n",
              "  <div id=\"df-819a2b45-9abe-4649-b3a8-61c1d63b1731\">\n",
              "    <div class=\"colab-df-container\">\n",
              "      <div>\n",
              "<style scoped>\n",
              "    .dataframe tbody tr th:only-of-type {\n",
              "        vertical-align: middle;\n",
              "    }\n",
              "\n",
              "    .dataframe tbody tr th {\n",
              "        vertical-align: top;\n",
              "    }\n",
              "\n",
              "    .dataframe thead th {\n",
              "        text-align: right;\n",
              "    }\n",
              "</style>\n",
              "<table border=\"1\" class=\"dataframe\">\n",
              "  <thead>\n",
              "    <tr style=\"text-align: right;\">\n",
              "      <th></th>\n",
              "      <th>images</th>\n",
              "      <th>target</th>\n",
              "    </tr>\n",
              "  </thead>\n",
              "  <tbody>\n",
              "    <tr>\n",
              "      <th>0</th>\n",
              "      <td>/content/Data/train/COVID19/COVID19(189).jpg</td>\n",
              "      <td>COVID</td>\n",
              "    </tr>\n",
              "    <tr>\n",
              "      <th>1</th>\n",
              "      <td>/content/Data/train/COVID19/COVID19(95).jpg</td>\n",
              "      <td>COVID</td>\n",
              "    </tr>\n",
              "    <tr>\n",
              "      <th>2</th>\n",
              "      <td>/content/Data/train/COVID19/COVID19(252).jpg</td>\n",
              "      <td>COVID</td>\n",
              "    </tr>\n",
              "    <tr>\n",
              "      <th>3</th>\n",
              "      <td>/content/Data/train/COVID19/COVID19(155).jpg</td>\n",
              "      <td>COVID</td>\n",
              "    </tr>\n",
              "    <tr>\n",
              "      <th>4</th>\n",
              "      <td>/content/Data/train/COVID19/COVID19(109).jpg</td>\n",
              "      <td>COVID</td>\n",
              "    </tr>\n",
              "    <tr>\n",
              "      <th>...</th>\n",
              "      <td>...</td>\n",
              "      <td>...</td>\n",
              "    </tr>\n",
              "    <tr>\n",
              "      <th>571</th>\n",
              "      <td>/content/Data/test/COVID19/COVID19(472).jpg</td>\n",
              "      <td>COVID</td>\n",
              "    </tr>\n",
              "    <tr>\n",
              "      <th>572</th>\n",
              "      <td>/content/Data/test/COVID19/COVID19(531).jpg</td>\n",
              "      <td>COVID</td>\n",
              "    </tr>\n",
              "    <tr>\n",
              "      <th>573</th>\n",
              "      <td>/content/Data/test/COVID19/COVID19(503).jpg</td>\n",
              "      <td>COVID</td>\n",
              "    </tr>\n",
              "    <tr>\n",
              "      <th>574</th>\n",
              "      <td>/content/Data/test/COVID19/COVID19(529).jpg</td>\n",
              "      <td>COVID</td>\n",
              "    </tr>\n",
              "    <tr>\n",
              "      <th>575</th>\n",
              "      <td>/content/Data/test/COVID19/COVID19(497).jpg</td>\n",
              "      <td>COVID</td>\n",
              "    </tr>\n",
              "  </tbody>\n",
              "</table>\n",
              "<p>576 rows × 2 columns</p>\n",
              "</div>\n",
              "      <button class=\"colab-df-convert\" onclick=\"convertToInteractive('df-819a2b45-9abe-4649-b3a8-61c1d63b1731')\"\n",
              "              title=\"Convert this dataframe to an interactive table.\"\n",
              "              style=\"display:none;\">\n",
              "        \n",
              "  <svg xmlns=\"http://www.w3.org/2000/svg\" height=\"24px\"viewBox=\"0 0 24 24\"\n",
              "       width=\"24px\">\n",
              "    <path d=\"M0 0h24v24H0V0z\" fill=\"none\"/>\n",
              "    <path d=\"M18.56 5.44l.94 2.06.94-2.06 2.06-.94-2.06-.94-.94-2.06-.94 2.06-2.06.94zm-11 1L8.5 8.5l.94-2.06 2.06-.94-2.06-.94L8.5 2.5l-.94 2.06-2.06.94zm10 10l.94 2.06.94-2.06 2.06-.94-2.06-.94-.94-2.06-.94 2.06-2.06.94z\"/><path d=\"M17.41 7.96l-1.37-1.37c-.4-.4-.92-.59-1.43-.59-.52 0-1.04.2-1.43.59L10.3 9.45l-7.72 7.72c-.78.78-.78 2.05 0 2.83L4 21.41c.39.39.9.59 1.41.59.51 0 1.02-.2 1.41-.59l7.78-7.78 2.81-2.81c.8-.78.8-2.07 0-2.86zM5.41 20L4 18.59l7.72-7.72 1.47 1.35L5.41 20z\"/>\n",
              "  </svg>\n",
              "      </button>\n",
              "      \n",
              "  <style>\n",
              "    .colab-df-container {\n",
              "      display:flex;\n",
              "      flex-wrap:wrap;\n",
              "      gap: 12px;\n",
              "    }\n",
              "\n",
              "    .colab-df-convert {\n",
              "      background-color: #E8F0FE;\n",
              "      border: none;\n",
              "      border-radius: 50%;\n",
              "      cursor: pointer;\n",
              "      display: none;\n",
              "      fill: #1967D2;\n",
              "      height: 32px;\n",
              "      padding: 0 0 0 0;\n",
              "      width: 32px;\n",
              "    }\n",
              "\n",
              "    .colab-df-convert:hover {\n",
              "      background-color: #E2EBFA;\n",
              "      box-shadow: 0px 1px 2px rgba(60, 64, 67, 0.3), 0px 1px 3px 1px rgba(60, 64, 67, 0.15);\n",
              "      fill: #174EA6;\n",
              "    }\n",
              "\n",
              "    [theme=dark] .colab-df-convert {\n",
              "      background-color: #3B4455;\n",
              "      fill: #D2E3FC;\n",
              "    }\n",
              "\n",
              "    [theme=dark] .colab-df-convert:hover {\n",
              "      background-color: #434B5C;\n",
              "      box-shadow: 0px 1px 3px 1px rgba(0, 0, 0, 0.15);\n",
              "      filter: drop-shadow(0px 1px 2px rgba(0, 0, 0, 0.3));\n",
              "      fill: #FFFFFF;\n",
              "    }\n",
              "  </style>\n",
              "\n",
              "      <script>\n",
              "        const buttonEl =\n",
              "          document.querySelector('#df-819a2b45-9abe-4649-b3a8-61c1d63b1731 button.colab-df-convert');\n",
              "        buttonEl.style.display =\n",
              "          google.colab.kernel.accessAllowed ? 'block' : 'none';\n",
              "\n",
              "        async function convertToInteractive(key) {\n",
              "          const element = document.querySelector('#df-819a2b45-9abe-4649-b3a8-61c1d63b1731');\n",
              "          const dataTable =\n",
              "            await google.colab.kernel.invokeFunction('convertToInteractive',\n",
              "                                                     [key], {});\n",
              "          if (!dataTable) return;\n",
              "\n",
              "          const docLinkHtml = 'Like what you see? Visit the ' +\n",
              "            '<a target=\"_blank\" href=https://colab.research.google.com/notebooks/data_table.ipynb>data table notebook</a>'\n",
              "            + ' to learn more about interactive tables.';\n",
              "          element.innerHTML = '';\n",
              "          dataTable['output_type'] = 'display_data';\n",
              "          await google.colab.output.renderOutput(dataTable, element);\n",
              "          const docLink = document.createElement('div');\n",
              "          docLink.innerHTML = docLinkHtml;\n",
              "          element.appendChild(docLink);\n",
              "        }\n",
              "      </script>\n",
              "    </div>\n",
              "  </div>\n",
              "  "
            ]
          },
          "metadata": {},
          "execution_count": 16
        }
      ]
    },
    {
      "cell_type": "code",
      "source": [
        "train_cov"
      ],
      "metadata": {
        "execution": {
          "iopub.status.busy": "2022-04-16T10:37:45.189870Z",
          "iopub.execute_input": "2022-04-16T10:37:45.190247Z",
          "iopub.status.idle": "2022-04-16T10:37:45.209363Z",
          "shell.execute_reply.started": "2022-04-16T10:37:45.190211Z",
          "shell.execute_reply": "2022-04-16T10:37:45.208793Z"
        },
        "trusted": true,
        "id": "P7z10ysfdLyA",
        "colab": {
          "base_uri": "https://localhost:8080/",
          "height": 654
        },
        "outputId": "6f365753-91bd-4464-b198-96602fcbc79d"
      },
      "execution_count": 17,
      "outputs": [
        {
          "output_type": "execute_result",
          "data": {
            "text/plain": [
              "       FILE NAME FORMAT     SIZE  \\\n",
              "0        COVID-1    PNG  256*256   \n",
              "1        COVID-2    PNG  256*256   \n",
              "2        COVID-3    PNG  256*256   \n",
              "3        COVID-4    PNG  256*256   \n",
              "4        COVID-5    PNG  256*256   \n",
              "...          ...    ...      ...   \n",
              "3611  COVID-3612    PNG  256*256   \n",
              "3612  COVID-3613    PNG  256*256   \n",
              "3613  COVID-3614    PNG  256*256   \n",
              "3614  COVID-3615    PNG  256*256   \n",
              "3615  COVID-3616    PNG  256*256   \n",
              "\n",
              "                                                    URL  label  \n",
              "0     https://sirm.org/category/senza-categoria/covi...  COVID  \n",
              "1     https://sirm.org/category/senza-categoria/covi...  COVID  \n",
              "2     https://sirm.org/category/senza-categoria/covi...  COVID  \n",
              "3     https://sirm.org/category/senza-categoria/covi...  COVID  \n",
              "4     https://sirm.org/category/senza-categoria/covi...  COVID  \n",
              "...                                                 ...    ...  \n",
              "3611  https://bimcv.cipf.es/bimcv-projects/bimcv-cov...  COVID  \n",
              "3612  https://bimcv.cipf.es/bimcv-projects/bimcv-cov...  COVID  \n",
              "3613  https://bimcv.cipf.es/bimcv-projects/bimcv-cov...  COVID  \n",
              "3614  https://bimcv.cipf.es/bimcv-projects/bimcv-cov...  COVID  \n",
              "3615  https://bimcv.cipf.es/bimcv-projects/bimcv-cov...  COVID  \n",
              "\n",
              "[3616 rows x 5 columns]"
            ],
            "text/html": [
              "\n",
              "  <div id=\"df-4103c7cc-efb1-4d7e-b361-568b4d1893b4\">\n",
              "    <div class=\"colab-df-container\">\n",
              "      <div>\n",
              "<style scoped>\n",
              "    .dataframe tbody tr th:only-of-type {\n",
              "        vertical-align: middle;\n",
              "    }\n",
              "\n",
              "    .dataframe tbody tr th {\n",
              "        vertical-align: top;\n",
              "    }\n",
              "\n",
              "    .dataframe thead th {\n",
              "        text-align: right;\n",
              "    }\n",
              "</style>\n",
              "<table border=\"1\" class=\"dataframe\">\n",
              "  <thead>\n",
              "    <tr style=\"text-align: right;\">\n",
              "      <th></th>\n",
              "      <th>FILE NAME</th>\n",
              "      <th>FORMAT</th>\n",
              "      <th>SIZE</th>\n",
              "      <th>URL</th>\n",
              "      <th>label</th>\n",
              "    </tr>\n",
              "  </thead>\n",
              "  <tbody>\n",
              "    <tr>\n",
              "      <th>0</th>\n",
              "      <td>COVID-1</td>\n",
              "      <td>PNG</td>\n",
              "      <td>256*256</td>\n",
              "      <td>https://sirm.org/category/senza-categoria/covi...</td>\n",
              "      <td>COVID</td>\n",
              "    </tr>\n",
              "    <tr>\n",
              "      <th>1</th>\n",
              "      <td>COVID-2</td>\n",
              "      <td>PNG</td>\n",
              "      <td>256*256</td>\n",
              "      <td>https://sirm.org/category/senza-categoria/covi...</td>\n",
              "      <td>COVID</td>\n",
              "    </tr>\n",
              "    <tr>\n",
              "      <th>2</th>\n",
              "      <td>COVID-3</td>\n",
              "      <td>PNG</td>\n",
              "      <td>256*256</td>\n",
              "      <td>https://sirm.org/category/senza-categoria/covi...</td>\n",
              "      <td>COVID</td>\n",
              "    </tr>\n",
              "    <tr>\n",
              "      <th>3</th>\n",
              "      <td>COVID-4</td>\n",
              "      <td>PNG</td>\n",
              "      <td>256*256</td>\n",
              "      <td>https://sirm.org/category/senza-categoria/covi...</td>\n",
              "      <td>COVID</td>\n",
              "    </tr>\n",
              "    <tr>\n",
              "      <th>4</th>\n",
              "      <td>COVID-5</td>\n",
              "      <td>PNG</td>\n",
              "      <td>256*256</td>\n",
              "      <td>https://sirm.org/category/senza-categoria/covi...</td>\n",
              "      <td>COVID</td>\n",
              "    </tr>\n",
              "    <tr>\n",
              "      <th>...</th>\n",
              "      <td>...</td>\n",
              "      <td>...</td>\n",
              "      <td>...</td>\n",
              "      <td>...</td>\n",
              "      <td>...</td>\n",
              "    </tr>\n",
              "    <tr>\n",
              "      <th>3611</th>\n",
              "      <td>COVID-3612</td>\n",
              "      <td>PNG</td>\n",
              "      <td>256*256</td>\n",
              "      <td>https://bimcv.cipf.es/bimcv-projects/bimcv-cov...</td>\n",
              "      <td>COVID</td>\n",
              "    </tr>\n",
              "    <tr>\n",
              "      <th>3612</th>\n",
              "      <td>COVID-3613</td>\n",
              "      <td>PNG</td>\n",
              "      <td>256*256</td>\n",
              "      <td>https://bimcv.cipf.es/bimcv-projects/bimcv-cov...</td>\n",
              "      <td>COVID</td>\n",
              "    </tr>\n",
              "    <tr>\n",
              "      <th>3613</th>\n",
              "      <td>COVID-3614</td>\n",
              "      <td>PNG</td>\n",
              "      <td>256*256</td>\n",
              "      <td>https://bimcv.cipf.es/bimcv-projects/bimcv-cov...</td>\n",
              "      <td>COVID</td>\n",
              "    </tr>\n",
              "    <tr>\n",
              "      <th>3614</th>\n",
              "      <td>COVID-3615</td>\n",
              "      <td>PNG</td>\n",
              "      <td>256*256</td>\n",
              "      <td>https://bimcv.cipf.es/bimcv-projects/bimcv-cov...</td>\n",
              "      <td>COVID</td>\n",
              "    </tr>\n",
              "    <tr>\n",
              "      <th>3615</th>\n",
              "      <td>COVID-3616</td>\n",
              "      <td>PNG</td>\n",
              "      <td>256*256</td>\n",
              "      <td>https://bimcv.cipf.es/bimcv-projects/bimcv-cov...</td>\n",
              "      <td>COVID</td>\n",
              "    </tr>\n",
              "  </tbody>\n",
              "</table>\n",
              "<p>3616 rows × 5 columns</p>\n",
              "</div>\n",
              "      <button class=\"colab-df-convert\" onclick=\"convertToInteractive('df-4103c7cc-efb1-4d7e-b361-568b4d1893b4')\"\n",
              "              title=\"Convert this dataframe to an interactive table.\"\n",
              "              style=\"display:none;\">\n",
              "        \n",
              "  <svg xmlns=\"http://www.w3.org/2000/svg\" height=\"24px\"viewBox=\"0 0 24 24\"\n",
              "       width=\"24px\">\n",
              "    <path d=\"M0 0h24v24H0V0z\" fill=\"none\"/>\n",
              "    <path d=\"M18.56 5.44l.94 2.06.94-2.06 2.06-.94-2.06-.94-.94-2.06-.94 2.06-2.06.94zm-11 1L8.5 8.5l.94-2.06 2.06-.94-2.06-.94L8.5 2.5l-.94 2.06-2.06.94zm10 10l.94 2.06.94-2.06 2.06-.94-2.06-.94-.94-2.06-.94 2.06-2.06.94z\"/><path d=\"M17.41 7.96l-1.37-1.37c-.4-.4-.92-.59-1.43-.59-.52 0-1.04.2-1.43.59L10.3 9.45l-7.72 7.72c-.78.78-.78 2.05 0 2.83L4 21.41c.39.39.9.59 1.41.59.51 0 1.02-.2 1.41-.59l7.78-7.78 2.81-2.81c.8-.78.8-2.07 0-2.86zM5.41 20L4 18.59l7.72-7.72 1.47 1.35L5.41 20z\"/>\n",
              "  </svg>\n",
              "      </button>\n",
              "      \n",
              "  <style>\n",
              "    .colab-df-container {\n",
              "      display:flex;\n",
              "      flex-wrap:wrap;\n",
              "      gap: 12px;\n",
              "    }\n",
              "\n",
              "    .colab-df-convert {\n",
              "      background-color: #E8F0FE;\n",
              "      border: none;\n",
              "      border-radius: 50%;\n",
              "      cursor: pointer;\n",
              "      display: none;\n",
              "      fill: #1967D2;\n",
              "      height: 32px;\n",
              "      padding: 0 0 0 0;\n",
              "      width: 32px;\n",
              "    }\n",
              "\n",
              "    .colab-df-convert:hover {\n",
              "      background-color: #E2EBFA;\n",
              "      box-shadow: 0px 1px 2px rgba(60, 64, 67, 0.3), 0px 1px 3px 1px rgba(60, 64, 67, 0.15);\n",
              "      fill: #174EA6;\n",
              "    }\n",
              "\n",
              "    [theme=dark] .colab-df-convert {\n",
              "      background-color: #3B4455;\n",
              "      fill: #D2E3FC;\n",
              "    }\n",
              "\n",
              "    [theme=dark] .colab-df-convert:hover {\n",
              "      background-color: #434B5C;\n",
              "      box-shadow: 0px 1px 3px 1px rgba(0, 0, 0, 0.15);\n",
              "      filter: drop-shadow(0px 1px 2px rgba(0, 0, 0, 0.3));\n",
              "      fill: #FFFFFF;\n",
              "    }\n",
              "  </style>\n",
              "\n",
              "      <script>\n",
              "        const buttonEl =\n",
              "          document.querySelector('#df-4103c7cc-efb1-4d7e-b361-568b4d1893b4 button.colab-df-convert');\n",
              "        buttonEl.style.display =\n",
              "          google.colab.kernel.accessAllowed ? 'block' : 'none';\n",
              "\n",
              "        async function convertToInteractive(key) {\n",
              "          const element = document.querySelector('#df-4103c7cc-efb1-4d7e-b361-568b4d1893b4');\n",
              "          const dataTable =\n",
              "            await google.colab.kernel.invokeFunction('convertToInteractive',\n",
              "                                                     [key], {});\n",
              "          if (!dataTable) return;\n",
              "\n",
              "          const docLinkHtml = 'Like what you see? Visit the ' +\n",
              "            '<a target=\"_blank\" href=https://colab.research.google.com/notebooks/data_table.ipynb>data table notebook</a>'\n",
              "            + ' to learn more about interactive tables.';\n",
              "          element.innerHTML = '';\n",
              "          dataTable['output_type'] = 'display_data';\n",
              "          await google.colab.output.renderOutput(dataTable, element);\n",
              "          const docLink = document.createElement('div');\n",
              "          docLink.innerHTML = docLinkHtml;\n",
              "          element.appendChild(docLink);\n",
              "        }\n",
              "      </script>\n",
              "    </div>\n",
              "  </div>\n",
              "  "
            ]
          },
          "metadata": {},
          "execution_count": 17
        }
      ]
    },
    {
      "cell_type": "markdown",
      "source": [
        "Fetch data from COVID-19_Radiography_Dataset"
      ],
      "metadata": {
        "id": "I4AEffKedLyA"
      }
    },
    {
      "cell_type": "code",
      "source": [
        "train_dir='/content/COVID-19_Radiography_Dataset/COVID/images/'\n",
        "data=[]\n",
        "labels=[]\n",
        "for i in range(train_cov.shape[0]):\n",
        "    data.append(train_dir+train_cov['FILE NAME'].iloc[i]+'.png')\n",
        "    labels.append(train_cov['label'].iloc[i])\n",
        "df_cov=pd.DataFrame(data)\n",
        "df_cov.columns=['images']\n",
        "df_cov['target']=labels"
      ],
      "metadata": {
        "execution": {
          "iopub.status.busy": "2022-04-16T10:44:01.376213Z",
          "iopub.execute_input": "2022-04-16T10:44:01.377026Z",
          "iopub.status.idle": "2022-04-16T10:44:01.478262Z",
          "shell.execute_reply.started": "2022-04-16T10:44:01.376990Z",
          "shell.execute_reply": "2022-04-16T10:44:01.477680Z"
        },
        "trusted": true,
        "id": "xK-km4eEdLyA"
      },
      "execution_count": 18,
      "outputs": []
    },
    {
      "cell_type": "code",
      "source": [
        "df_cov"
      ],
      "metadata": {
        "execution": {
          "iopub.status.busy": "2022-04-16T10:44:10.828120Z",
          "iopub.execute_input": "2022-04-16T10:44:10.828817Z",
          "iopub.status.idle": "2022-04-16T10:44:10.843790Z",
          "shell.execute_reply.started": "2022-04-16T10:44:10.828773Z",
          "shell.execute_reply": "2022-04-16T10:44:10.842764Z"
        },
        "trusted": true,
        "id": "O8-hHUXfdLyB",
        "colab": {
          "base_uri": "https://localhost:8080/",
          "height": 654
        },
        "outputId": "aa538539-297b-4311-bab7-0bacb20f1105"
      },
      "execution_count": 19,
      "outputs": [
        {
          "output_type": "execute_result",
          "data": {
            "text/plain": [
              "                                                 images target\n",
              "0     /content/COVID-19_Radiography_Dataset/COVID/im...  COVID\n",
              "1     /content/COVID-19_Radiography_Dataset/COVID/im...  COVID\n",
              "2     /content/COVID-19_Radiography_Dataset/COVID/im...  COVID\n",
              "3     /content/COVID-19_Radiography_Dataset/COVID/im...  COVID\n",
              "4     /content/COVID-19_Radiography_Dataset/COVID/im...  COVID\n",
              "...                                                 ...    ...\n",
              "3611  /content/COVID-19_Radiography_Dataset/COVID/im...  COVID\n",
              "3612  /content/COVID-19_Radiography_Dataset/COVID/im...  COVID\n",
              "3613  /content/COVID-19_Radiography_Dataset/COVID/im...  COVID\n",
              "3614  /content/COVID-19_Radiography_Dataset/COVID/im...  COVID\n",
              "3615  /content/COVID-19_Radiography_Dataset/COVID/im...  COVID\n",
              "\n",
              "[3616 rows x 2 columns]"
            ],
            "text/html": [
              "\n",
              "  <div id=\"df-f073847d-7c52-4b36-a7d9-f3ef29a1da3e\">\n",
              "    <div class=\"colab-df-container\">\n",
              "      <div>\n",
              "<style scoped>\n",
              "    .dataframe tbody tr th:only-of-type {\n",
              "        vertical-align: middle;\n",
              "    }\n",
              "\n",
              "    .dataframe tbody tr th {\n",
              "        vertical-align: top;\n",
              "    }\n",
              "\n",
              "    .dataframe thead th {\n",
              "        text-align: right;\n",
              "    }\n",
              "</style>\n",
              "<table border=\"1\" class=\"dataframe\">\n",
              "  <thead>\n",
              "    <tr style=\"text-align: right;\">\n",
              "      <th></th>\n",
              "      <th>images</th>\n",
              "      <th>target</th>\n",
              "    </tr>\n",
              "  </thead>\n",
              "  <tbody>\n",
              "    <tr>\n",
              "      <th>0</th>\n",
              "      <td>/content/COVID-19_Radiography_Dataset/COVID/im...</td>\n",
              "      <td>COVID</td>\n",
              "    </tr>\n",
              "    <tr>\n",
              "      <th>1</th>\n",
              "      <td>/content/COVID-19_Radiography_Dataset/COVID/im...</td>\n",
              "      <td>COVID</td>\n",
              "    </tr>\n",
              "    <tr>\n",
              "      <th>2</th>\n",
              "      <td>/content/COVID-19_Radiography_Dataset/COVID/im...</td>\n",
              "      <td>COVID</td>\n",
              "    </tr>\n",
              "    <tr>\n",
              "      <th>3</th>\n",
              "      <td>/content/COVID-19_Radiography_Dataset/COVID/im...</td>\n",
              "      <td>COVID</td>\n",
              "    </tr>\n",
              "    <tr>\n",
              "      <th>4</th>\n",
              "      <td>/content/COVID-19_Radiography_Dataset/COVID/im...</td>\n",
              "      <td>COVID</td>\n",
              "    </tr>\n",
              "    <tr>\n",
              "      <th>...</th>\n",
              "      <td>...</td>\n",
              "      <td>...</td>\n",
              "    </tr>\n",
              "    <tr>\n",
              "      <th>3611</th>\n",
              "      <td>/content/COVID-19_Radiography_Dataset/COVID/im...</td>\n",
              "      <td>COVID</td>\n",
              "    </tr>\n",
              "    <tr>\n",
              "      <th>3612</th>\n",
              "      <td>/content/COVID-19_Radiography_Dataset/COVID/im...</td>\n",
              "      <td>COVID</td>\n",
              "    </tr>\n",
              "    <tr>\n",
              "      <th>3613</th>\n",
              "      <td>/content/COVID-19_Radiography_Dataset/COVID/im...</td>\n",
              "      <td>COVID</td>\n",
              "    </tr>\n",
              "    <tr>\n",
              "      <th>3614</th>\n",
              "      <td>/content/COVID-19_Radiography_Dataset/COVID/im...</td>\n",
              "      <td>COVID</td>\n",
              "    </tr>\n",
              "    <tr>\n",
              "      <th>3615</th>\n",
              "      <td>/content/COVID-19_Radiography_Dataset/COVID/im...</td>\n",
              "      <td>COVID</td>\n",
              "    </tr>\n",
              "  </tbody>\n",
              "</table>\n",
              "<p>3616 rows × 2 columns</p>\n",
              "</div>\n",
              "      <button class=\"colab-df-convert\" onclick=\"convertToInteractive('df-f073847d-7c52-4b36-a7d9-f3ef29a1da3e')\"\n",
              "              title=\"Convert this dataframe to an interactive table.\"\n",
              "              style=\"display:none;\">\n",
              "        \n",
              "  <svg xmlns=\"http://www.w3.org/2000/svg\" height=\"24px\"viewBox=\"0 0 24 24\"\n",
              "       width=\"24px\">\n",
              "    <path d=\"M0 0h24v24H0V0z\" fill=\"none\"/>\n",
              "    <path d=\"M18.56 5.44l.94 2.06.94-2.06 2.06-.94-2.06-.94-.94-2.06-.94 2.06-2.06.94zm-11 1L8.5 8.5l.94-2.06 2.06-.94-2.06-.94L8.5 2.5l-.94 2.06-2.06.94zm10 10l.94 2.06.94-2.06 2.06-.94-2.06-.94-.94-2.06-.94 2.06-2.06.94z\"/><path d=\"M17.41 7.96l-1.37-1.37c-.4-.4-.92-.59-1.43-.59-.52 0-1.04.2-1.43.59L10.3 9.45l-7.72 7.72c-.78.78-.78 2.05 0 2.83L4 21.41c.39.39.9.59 1.41.59.51 0 1.02-.2 1.41-.59l7.78-7.78 2.81-2.81c.8-.78.8-2.07 0-2.86zM5.41 20L4 18.59l7.72-7.72 1.47 1.35L5.41 20z\"/>\n",
              "  </svg>\n",
              "      </button>\n",
              "      \n",
              "  <style>\n",
              "    .colab-df-container {\n",
              "      display:flex;\n",
              "      flex-wrap:wrap;\n",
              "      gap: 12px;\n",
              "    }\n",
              "\n",
              "    .colab-df-convert {\n",
              "      background-color: #E8F0FE;\n",
              "      border: none;\n",
              "      border-radius: 50%;\n",
              "      cursor: pointer;\n",
              "      display: none;\n",
              "      fill: #1967D2;\n",
              "      height: 32px;\n",
              "      padding: 0 0 0 0;\n",
              "      width: 32px;\n",
              "    }\n",
              "\n",
              "    .colab-df-convert:hover {\n",
              "      background-color: #E2EBFA;\n",
              "      box-shadow: 0px 1px 2px rgba(60, 64, 67, 0.3), 0px 1px 3px 1px rgba(60, 64, 67, 0.15);\n",
              "      fill: #174EA6;\n",
              "    }\n",
              "\n",
              "    [theme=dark] .colab-df-convert {\n",
              "      background-color: #3B4455;\n",
              "      fill: #D2E3FC;\n",
              "    }\n",
              "\n",
              "    [theme=dark] .colab-df-convert:hover {\n",
              "      background-color: #434B5C;\n",
              "      box-shadow: 0px 1px 3px 1px rgba(0, 0, 0, 0.15);\n",
              "      filter: drop-shadow(0px 1px 2px rgba(0, 0, 0, 0.3));\n",
              "      fill: #FFFFFF;\n",
              "    }\n",
              "  </style>\n",
              "\n",
              "      <script>\n",
              "        const buttonEl =\n",
              "          document.querySelector('#df-f073847d-7c52-4b36-a7d9-f3ef29a1da3e button.colab-df-convert');\n",
              "        buttonEl.style.display =\n",
              "          google.colab.kernel.accessAllowed ? 'block' : 'none';\n",
              "\n",
              "        async function convertToInteractive(key) {\n",
              "          const element = document.querySelector('#df-f073847d-7c52-4b36-a7d9-f3ef29a1da3e');\n",
              "          const dataTable =\n",
              "            await google.colab.kernel.invokeFunction('convertToInteractive',\n",
              "                                                     [key], {});\n",
              "          if (!dataTable) return;\n",
              "\n",
              "          const docLinkHtml = 'Like what you see? Visit the ' +\n",
              "            '<a target=\"_blank\" href=https://colab.research.google.com/notebooks/data_table.ipynb>data table notebook</a>'\n",
              "            + ' to learn more about interactive tables.';\n",
              "          element.innerHTML = '';\n",
              "          dataTable['output_type'] = 'display_data';\n",
              "          await google.colab.output.renderOutput(dataTable, element);\n",
              "          const docLink = document.createElement('div');\n",
              "          docLink.innerHTML = docLinkHtml;\n",
              "          element.appendChild(docLink);\n",
              "        }\n",
              "      </script>\n",
              "    </div>\n",
              "  </div>\n",
              "  "
            ]
          },
          "metadata": {},
          "execution_count": 19
        }
      ]
    },
    {
      "cell_type": "markdown",
      "source": [
        "# Generate dataframe for Normal Images"
      ],
      "metadata": {
        "id": "IEYxE7LMdLyB"
      }
    },
    {
      "cell_type": "markdown",
      "source": [
        "Fetch from COVID-19_Radiography_Dataset"
      ],
      "metadata": {
        "id": "nwCK0caLdLyB"
      }
    },
    {
      "cell_type": "code",
      "source": [
        "train_dir='/content/COVID-19_Radiography_Dataset/Normal/images/'\n",
        "data=[]\n",
        "labels=[]\n",
        "for i in range(train_nor.shape[0]):\n",
        "    data.append(train_dir+train_nor['FILE NAME'].iloc[i].title()+'.png')\n",
        "    labels.append(train_nor['label'].iloc[i])\n",
        "df_nor=pd.DataFrame(data)\n",
        "df_nor.columns=['images']\n",
        "df_nor['target']=labels"
      ],
      "metadata": {
        "execution": {
          "iopub.status.busy": "2022-04-16T11:08:49.660427Z",
          "iopub.execute_input": "2022-04-16T11:08:49.660769Z",
          "iopub.status.idle": "2022-04-16T11:08:49.779041Z",
          "shell.execute_reply.started": "2022-04-16T11:08:49.660739Z",
          "shell.execute_reply": "2022-04-16T11:08:49.778029Z"
        },
        "trusted": true,
        "id": "ZbkTe-RBdLyB"
      },
      "execution_count": 20,
      "outputs": []
    },
    {
      "cell_type": "code",
      "source": [
        "df_nor"
      ],
      "metadata": {
        "execution": {
          "iopub.status.busy": "2022-04-16T11:08:52.112078Z",
          "iopub.execute_input": "2022-04-16T11:08:52.112397Z",
          "iopub.status.idle": "2022-04-16T11:08:52.127542Z",
          "shell.execute_reply.started": "2022-04-16T11:08:52.112366Z",
          "shell.execute_reply": "2022-04-16T11:08:52.126510Z"
        },
        "trusted": true,
        "id": "7f8Y-LL7dLyB",
        "colab": {
          "base_uri": "https://localhost:8080/",
          "height": 654
        },
        "outputId": "a9975ebc-3acb-4947-c5c8-2f8d9df15b81"
      },
      "execution_count": 21,
      "outputs": [
        {
          "output_type": "execute_result",
          "data": {
            "text/plain": [
              "                                                 images  target\n",
              "0     /content/COVID-19_Radiography_Dataset/Normal/i...  NORMAL\n",
              "1     /content/COVID-19_Radiography_Dataset/Normal/i...  NORMAL\n",
              "2     /content/COVID-19_Radiography_Dataset/Normal/i...  NORMAL\n",
              "3     /content/COVID-19_Radiography_Dataset/Normal/i...  NORMAL\n",
              "4     /content/COVID-19_Radiography_Dataset/Normal/i...  NORMAL\n",
              "...                                                 ...     ...\n",
              "4187  /content/COVID-19_Radiography_Dataset/Normal/i...  NORMAL\n",
              "4188  /content/COVID-19_Radiography_Dataset/Normal/i...  NORMAL\n",
              "4189  /content/COVID-19_Radiography_Dataset/Normal/i...  NORMAL\n",
              "4190  /content/COVID-19_Radiography_Dataset/Normal/i...  NORMAL\n",
              "4191  /content/COVID-19_Radiography_Dataset/Normal/i...  NORMAL\n",
              "\n",
              "[4192 rows x 2 columns]"
            ],
            "text/html": [
              "\n",
              "  <div id=\"df-49ae0ede-6703-4f90-ac6e-3aef7ce6a4d7\">\n",
              "    <div class=\"colab-df-container\">\n",
              "      <div>\n",
              "<style scoped>\n",
              "    .dataframe tbody tr th:only-of-type {\n",
              "        vertical-align: middle;\n",
              "    }\n",
              "\n",
              "    .dataframe tbody tr th {\n",
              "        vertical-align: top;\n",
              "    }\n",
              "\n",
              "    .dataframe thead th {\n",
              "        text-align: right;\n",
              "    }\n",
              "</style>\n",
              "<table border=\"1\" class=\"dataframe\">\n",
              "  <thead>\n",
              "    <tr style=\"text-align: right;\">\n",
              "      <th></th>\n",
              "      <th>images</th>\n",
              "      <th>target</th>\n",
              "    </tr>\n",
              "  </thead>\n",
              "  <tbody>\n",
              "    <tr>\n",
              "      <th>0</th>\n",
              "      <td>/content/COVID-19_Radiography_Dataset/Normal/i...</td>\n",
              "      <td>NORMAL</td>\n",
              "    </tr>\n",
              "    <tr>\n",
              "      <th>1</th>\n",
              "      <td>/content/COVID-19_Radiography_Dataset/Normal/i...</td>\n",
              "      <td>NORMAL</td>\n",
              "    </tr>\n",
              "    <tr>\n",
              "      <th>2</th>\n",
              "      <td>/content/COVID-19_Radiography_Dataset/Normal/i...</td>\n",
              "      <td>NORMAL</td>\n",
              "    </tr>\n",
              "    <tr>\n",
              "      <th>3</th>\n",
              "      <td>/content/COVID-19_Radiography_Dataset/Normal/i...</td>\n",
              "      <td>NORMAL</td>\n",
              "    </tr>\n",
              "    <tr>\n",
              "      <th>4</th>\n",
              "      <td>/content/COVID-19_Radiography_Dataset/Normal/i...</td>\n",
              "      <td>NORMAL</td>\n",
              "    </tr>\n",
              "    <tr>\n",
              "      <th>...</th>\n",
              "      <td>...</td>\n",
              "      <td>...</td>\n",
              "    </tr>\n",
              "    <tr>\n",
              "      <th>4187</th>\n",
              "      <td>/content/COVID-19_Radiography_Dataset/Normal/i...</td>\n",
              "      <td>NORMAL</td>\n",
              "    </tr>\n",
              "    <tr>\n",
              "      <th>4188</th>\n",
              "      <td>/content/COVID-19_Radiography_Dataset/Normal/i...</td>\n",
              "      <td>NORMAL</td>\n",
              "    </tr>\n",
              "    <tr>\n",
              "      <th>4189</th>\n",
              "      <td>/content/COVID-19_Radiography_Dataset/Normal/i...</td>\n",
              "      <td>NORMAL</td>\n",
              "    </tr>\n",
              "    <tr>\n",
              "      <th>4190</th>\n",
              "      <td>/content/COVID-19_Radiography_Dataset/Normal/i...</td>\n",
              "      <td>NORMAL</td>\n",
              "    </tr>\n",
              "    <tr>\n",
              "      <th>4191</th>\n",
              "      <td>/content/COVID-19_Radiography_Dataset/Normal/i...</td>\n",
              "      <td>NORMAL</td>\n",
              "    </tr>\n",
              "  </tbody>\n",
              "</table>\n",
              "<p>4192 rows × 2 columns</p>\n",
              "</div>\n",
              "      <button class=\"colab-df-convert\" onclick=\"convertToInteractive('df-49ae0ede-6703-4f90-ac6e-3aef7ce6a4d7')\"\n",
              "              title=\"Convert this dataframe to an interactive table.\"\n",
              "              style=\"display:none;\">\n",
              "        \n",
              "  <svg xmlns=\"http://www.w3.org/2000/svg\" height=\"24px\"viewBox=\"0 0 24 24\"\n",
              "       width=\"24px\">\n",
              "    <path d=\"M0 0h24v24H0V0z\" fill=\"none\"/>\n",
              "    <path d=\"M18.56 5.44l.94 2.06.94-2.06 2.06-.94-2.06-.94-.94-2.06-.94 2.06-2.06.94zm-11 1L8.5 8.5l.94-2.06 2.06-.94-2.06-.94L8.5 2.5l-.94 2.06-2.06.94zm10 10l.94 2.06.94-2.06 2.06-.94-2.06-.94-.94-2.06-.94 2.06-2.06.94z\"/><path d=\"M17.41 7.96l-1.37-1.37c-.4-.4-.92-.59-1.43-.59-.52 0-1.04.2-1.43.59L10.3 9.45l-7.72 7.72c-.78.78-.78 2.05 0 2.83L4 21.41c.39.39.9.59 1.41.59.51 0 1.02-.2 1.41-.59l7.78-7.78 2.81-2.81c.8-.78.8-2.07 0-2.86zM5.41 20L4 18.59l7.72-7.72 1.47 1.35L5.41 20z\"/>\n",
              "  </svg>\n",
              "      </button>\n",
              "      \n",
              "  <style>\n",
              "    .colab-df-container {\n",
              "      display:flex;\n",
              "      flex-wrap:wrap;\n",
              "      gap: 12px;\n",
              "    }\n",
              "\n",
              "    .colab-df-convert {\n",
              "      background-color: #E8F0FE;\n",
              "      border: none;\n",
              "      border-radius: 50%;\n",
              "      cursor: pointer;\n",
              "      display: none;\n",
              "      fill: #1967D2;\n",
              "      height: 32px;\n",
              "      padding: 0 0 0 0;\n",
              "      width: 32px;\n",
              "    }\n",
              "\n",
              "    .colab-df-convert:hover {\n",
              "      background-color: #E2EBFA;\n",
              "      box-shadow: 0px 1px 2px rgba(60, 64, 67, 0.3), 0px 1px 3px 1px rgba(60, 64, 67, 0.15);\n",
              "      fill: #174EA6;\n",
              "    }\n",
              "\n",
              "    [theme=dark] .colab-df-convert {\n",
              "      background-color: #3B4455;\n",
              "      fill: #D2E3FC;\n",
              "    }\n",
              "\n",
              "    [theme=dark] .colab-df-convert:hover {\n",
              "      background-color: #434B5C;\n",
              "      box-shadow: 0px 1px 3px 1px rgba(0, 0, 0, 0.15);\n",
              "      filter: drop-shadow(0px 1px 2px rgba(0, 0, 0, 0.3));\n",
              "      fill: #FFFFFF;\n",
              "    }\n",
              "  </style>\n",
              "\n",
              "      <script>\n",
              "        const buttonEl =\n",
              "          document.querySelector('#df-49ae0ede-6703-4f90-ac6e-3aef7ce6a4d7 button.colab-df-convert');\n",
              "        buttonEl.style.display =\n",
              "          google.colab.kernel.accessAllowed ? 'block' : 'none';\n",
              "\n",
              "        async function convertToInteractive(key) {\n",
              "          const element = document.querySelector('#df-49ae0ede-6703-4f90-ac6e-3aef7ce6a4d7');\n",
              "          const dataTable =\n",
              "            await google.colab.kernel.invokeFunction('convertToInteractive',\n",
              "                                                     [key], {});\n",
              "          if (!dataTable) return;\n",
              "\n",
              "          const docLinkHtml = 'Like what you see? Visit the ' +\n",
              "            '<a target=\"_blank\" href=https://colab.research.google.com/notebooks/data_table.ipynb>data table notebook</a>'\n",
              "            + ' to learn more about interactive tables.';\n",
              "          element.innerHTML = '';\n",
              "          dataTable['output_type'] = 'display_data';\n",
              "          await google.colab.output.renderOutput(dataTable, element);\n",
              "          const docLink = document.createElement('div');\n",
              "          docLink.innerHTML = docLinkHtml;\n",
              "          element.appendChild(docLink);\n",
              "        }\n",
              "      </script>\n",
              "    </div>\n",
              "  </div>\n",
              "  "
            ]
          },
          "metadata": {},
          "execution_count": 21
        }
      ]
    },
    {
      "cell_type": "code",
      "source": [
        "train=pd.concat([df_pneu,df_nor,df_cov,df_pneu2,df_cov2])\n",
        "train=train.reset_index()\n",
        "train= train.drop([\"index\"], axis=1)"
      ],
      "metadata": {
        "execution": {
          "iopub.status.busy": "2022-04-16T12:39:58.547420Z",
          "iopub.execute_input": "2022-04-16T12:39:58.548611Z",
          "iopub.status.idle": "2022-04-16T12:39:58.566568Z",
          "shell.execute_reply.started": "2022-04-16T12:39:58.548550Z",
          "shell.execute_reply": "2022-04-16T12:39:58.565248Z"
        },
        "trusted": true,
        "id": "08ju74ihdLyC"
      },
      "execution_count": 22,
      "outputs": []
    },
    {
      "cell_type": "code",
      "source": [
        "train"
      ],
      "metadata": {
        "execution": {
          "iopub.status.busy": "2022-04-16T12:40:01.652754Z",
          "iopub.execute_input": "2022-04-16T12:40:01.653102Z",
          "iopub.status.idle": "2022-04-16T12:40:01.670212Z",
          "shell.execute_reply.started": "2022-04-16T12:40:01.653067Z",
          "shell.execute_reply": "2022-04-16T12:40:01.668950Z"
        },
        "trusted": true,
        "id": "VS3RFfnEdLyC",
        "colab": {
          "base_uri": "https://localhost:8080/",
          "height": 654
        },
        "outputId": "bccc5ad7-8eab-4853-ddc8-e8f192363b8b"
      },
      "execution_count": 23,
      "outputs": [
        {
          "output_type": "execute_result",
          "data": {
            "text/plain": [
              "                                                  images     target\n",
              "0      /content/COVID-19_Radiography_Dataset/Viral Pn...  PNEUMONIA\n",
              "1      /content/COVID-19_Radiography_Dataset/Viral Pn...  PNEUMONIA\n",
              "2      /content/COVID-19_Radiography_Dataset/Viral Pn...  PNEUMONIA\n",
              "3      /content/COVID-19_Radiography_Dataset/Viral Pn...  PNEUMONIA\n",
              "4      /content/COVID-19_Radiography_Dataset/Viral Pn...  PNEUMONIA\n",
              "...                                                  ...        ...\n",
              "12571        /content/Data/test/COVID19/COVID19(472).jpg      COVID\n",
              "12572        /content/Data/test/COVID19/COVID19(531).jpg      COVID\n",
              "12573        /content/Data/test/COVID19/COVID19(503).jpg      COVID\n",
              "12574        /content/Data/test/COVID19/COVID19(529).jpg      COVID\n",
              "12575        /content/Data/test/COVID19/COVID19(497).jpg      COVID\n",
              "\n",
              "[12576 rows x 2 columns]"
            ],
            "text/html": [
              "\n",
              "  <div id=\"df-64f2390d-5254-4b78-a72f-4183681adc5d\">\n",
              "    <div class=\"colab-df-container\">\n",
              "      <div>\n",
              "<style scoped>\n",
              "    .dataframe tbody tr th:only-of-type {\n",
              "        vertical-align: middle;\n",
              "    }\n",
              "\n",
              "    .dataframe tbody tr th {\n",
              "        vertical-align: top;\n",
              "    }\n",
              "\n",
              "    .dataframe thead th {\n",
              "        text-align: right;\n",
              "    }\n",
              "</style>\n",
              "<table border=\"1\" class=\"dataframe\">\n",
              "  <thead>\n",
              "    <tr style=\"text-align: right;\">\n",
              "      <th></th>\n",
              "      <th>images</th>\n",
              "      <th>target</th>\n",
              "    </tr>\n",
              "  </thead>\n",
              "  <tbody>\n",
              "    <tr>\n",
              "      <th>0</th>\n",
              "      <td>/content/COVID-19_Radiography_Dataset/Viral Pn...</td>\n",
              "      <td>PNEUMONIA</td>\n",
              "    </tr>\n",
              "    <tr>\n",
              "      <th>1</th>\n",
              "      <td>/content/COVID-19_Radiography_Dataset/Viral Pn...</td>\n",
              "      <td>PNEUMONIA</td>\n",
              "    </tr>\n",
              "    <tr>\n",
              "      <th>2</th>\n",
              "      <td>/content/COVID-19_Radiography_Dataset/Viral Pn...</td>\n",
              "      <td>PNEUMONIA</td>\n",
              "    </tr>\n",
              "    <tr>\n",
              "      <th>3</th>\n",
              "      <td>/content/COVID-19_Radiography_Dataset/Viral Pn...</td>\n",
              "      <td>PNEUMONIA</td>\n",
              "    </tr>\n",
              "    <tr>\n",
              "      <th>4</th>\n",
              "      <td>/content/COVID-19_Radiography_Dataset/Viral Pn...</td>\n",
              "      <td>PNEUMONIA</td>\n",
              "    </tr>\n",
              "    <tr>\n",
              "      <th>...</th>\n",
              "      <td>...</td>\n",
              "      <td>...</td>\n",
              "    </tr>\n",
              "    <tr>\n",
              "      <th>12571</th>\n",
              "      <td>/content/Data/test/COVID19/COVID19(472).jpg</td>\n",
              "      <td>COVID</td>\n",
              "    </tr>\n",
              "    <tr>\n",
              "      <th>12572</th>\n",
              "      <td>/content/Data/test/COVID19/COVID19(531).jpg</td>\n",
              "      <td>COVID</td>\n",
              "    </tr>\n",
              "    <tr>\n",
              "      <th>12573</th>\n",
              "      <td>/content/Data/test/COVID19/COVID19(503).jpg</td>\n",
              "      <td>COVID</td>\n",
              "    </tr>\n",
              "    <tr>\n",
              "      <th>12574</th>\n",
              "      <td>/content/Data/test/COVID19/COVID19(529).jpg</td>\n",
              "      <td>COVID</td>\n",
              "    </tr>\n",
              "    <tr>\n",
              "      <th>12575</th>\n",
              "      <td>/content/Data/test/COVID19/COVID19(497).jpg</td>\n",
              "      <td>COVID</td>\n",
              "    </tr>\n",
              "  </tbody>\n",
              "</table>\n",
              "<p>12576 rows × 2 columns</p>\n",
              "</div>\n",
              "      <button class=\"colab-df-convert\" onclick=\"convertToInteractive('df-64f2390d-5254-4b78-a72f-4183681adc5d')\"\n",
              "              title=\"Convert this dataframe to an interactive table.\"\n",
              "              style=\"display:none;\">\n",
              "        \n",
              "  <svg xmlns=\"http://www.w3.org/2000/svg\" height=\"24px\"viewBox=\"0 0 24 24\"\n",
              "       width=\"24px\">\n",
              "    <path d=\"M0 0h24v24H0V0z\" fill=\"none\"/>\n",
              "    <path d=\"M18.56 5.44l.94 2.06.94-2.06 2.06-.94-2.06-.94-.94-2.06-.94 2.06-2.06.94zm-11 1L8.5 8.5l.94-2.06 2.06-.94-2.06-.94L8.5 2.5l-.94 2.06-2.06.94zm10 10l.94 2.06.94-2.06 2.06-.94-2.06-.94-.94-2.06-.94 2.06-2.06.94z\"/><path d=\"M17.41 7.96l-1.37-1.37c-.4-.4-.92-.59-1.43-.59-.52 0-1.04.2-1.43.59L10.3 9.45l-7.72 7.72c-.78.78-.78 2.05 0 2.83L4 21.41c.39.39.9.59 1.41.59.51 0 1.02-.2 1.41-.59l7.78-7.78 2.81-2.81c.8-.78.8-2.07 0-2.86zM5.41 20L4 18.59l7.72-7.72 1.47 1.35L5.41 20z\"/>\n",
              "  </svg>\n",
              "      </button>\n",
              "      \n",
              "  <style>\n",
              "    .colab-df-container {\n",
              "      display:flex;\n",
              "      flex-wrap:wrap;\n",
              "      gap: 12px;\n",
              "    }\n",
              "\n",
              "    .colab-df-convert {\n",
              "      background-color: #E8F0FE;\n",
              "      border: none;\n",
              "      border-radius: 50%;\n",
              "      cursor: pointer;\n",
              "      display: none;\n",
              "      fill: #1967D2;\n",
              "      height: 32px;\n",
              "      padding: 0 0 0 0;\n",
              "      width: 32px;\n",
              "    }\n",
              "\n",
              "    .colab-df-convert:hover {\n",
              "      background-color: #E2EBFA;\n",
              "      box-shadow: 0px 1px 2px rgba(60, 64, 67, 0.3), 0px 1px 3px 1px rgba(60, 64, 67, 0.15);\n",
              "      fill: #174EA6;\n",
              "    }\n",
              "\n",
              "    [theme=dark] .colab-df-convert {\n",
              "      background-color: #3B4455;\n",
              "      fill: #D2E3FC;\n",
              "    }\n",
              "\n",
              "    [theme=dark] .colab-df-convert:hover {\n",
              "      background-color: #434B5C;\n",
              "      box-shadow: 0px 1px 3px 1px rgba(0, 0, 0, 0.15);\n",
              "      filter: drop-shadow(0px 1px 2px rgba(0, 0, 0, 0.3));\n",
              "      fill: #FFFFFF;\n",
              "    }\n",
              "  </style>\n",
              "\n",
              "      <script>\n",
              "        const buttonEl =\n",
              "          document.querySelector('#df-64f2390d-5254-4b78-a72f-4183681adc5d button.colab-df-convert');\n",
              "        buttonEl.style.display =\n",
              "          google.colab.kernel.accessAllowed ? 'block' : 'none';\n",
              "\n",
              "        async function convertToInteractive(key) {\n",
              "          const element = document.querySelector('#df-64f2390d-5254-4b78-a72f-4183681adc5d');\n",
              "          const dataTable =\n",
              "            await google.colab.kernel.invokeFunction('convertToInteractive',\n",
              "                                                     [key], {});\n",
              "          if (!dataTable) return;\n",
              "\n",
              "          const docLinkHtml = 'Like what you see? Visit the ' +\n",
              "            '<a target=\"_blank\" href=https://colab.research.google.com/notebooks/data_table.ipynb>data table notebook</a>'\n",
              "            + ' to learn more about interactive tables.';\n",
              "          element.innerHTML = '';\n",
              "          dataTable['output_type'] = 'display_data';\n",
              "          await google.colab.output.renderOutput(dataTable, element);\n",
              "          const docLink = document.createElement('div');\n",
              "          docLink.innerHTML = docLinkHtml;\n",
              "          element.appendChild(docLink);\n",
              "        }\n",
              "      </script>\n",
              "    </div>\n",
              "  </div>\n",
              "  "
            ]
          },
          "metadata": {},
          "execution_count": 23
        }
      ]
    },
    {
      "cell_type": "code",
      "source": [
        "import os.path\n",
        "count=0\n",
        "for x in train['images']:\n",
        "  if os.path.isfile(x):\n",
        "    count+=1\n",
        "  else:\n",
        "    print(x)\n",
        "    "
      ],
      "metadata": {
        "id": "3XuMvIZjX21N"
      },
      "execution_count": 24,
      "outputs": []
    },
    {
      "cell_type": "markdown",
      "source": [
        "# Dataset distribution"
      ],
      "metadata": {
        "id": "8X2NKLHLdLyC"
      }
    },
    {
      "cell_type": "code",
      "source": [
        "import matplotlib.pyplot as plt\n",
        "import seaborn as sns\n",
        "plt.figure(figsize=(12,3))\n",
        "splot = sns.countplot(data = train.sort_values(by='target'), y ='target', palette='cool', saturation=0.9)\n",
        "plt.show()\n",
        "train[\"target\"].value_counts()"
      ],
      "metadata": {
        "execution": {
          "iopub.status.busy": "2022-04-16T12:37:47.530053Z",
          "iopub.execute_input": "2022-04-16T12:37:47.532104Z",
          "iopub.status.idle": "2022-04-16T12:37:47.779002Z",
          "shell.execute_reply.started": "2022-04-16T12:37:47.532006Z",
          "shell.execute_reply": "2022-04-16T12:37:47.777908Z"
        },
        "trusted": true,
        "id": "EhfLpZWPdLyC",
        "colab": {
          "base_uri": "https://localhost:8080/",
          "height": 297
        },
        "outputId": "db0c2ef3-2981-4306-b612-6320d8eb2cf1"
      },
      "execution_count": 25,
      "outputs": [
        {
          "output_type": "display_data",
          "data": {
            "text/plain": [
              "<Figure size 864x216 with 1 Axes>"
            ],
            "image/png": "[encoded data removed]"
          },
          "metadata": {
            "needs_background": "light"
          }
        },
        {
          "output_type": "execute_result",
          "data": {
            "text/plain": [
              "PNEUMONIA    4192\n",
              "NORMAL       4192\n",
              "COVID        4192\n",
              "Name: target, dtype: int64"
            ]
          },
          "metadata": {},
          "execution_count": 25
        }
      ]
    },
    {
      "cell_type": "markdown",
      "source": [
        "# Split dataset into train and test data\n",
        "train:test => 80:20  \n",
        "shuffle = true"
      ],
      "metadata": {
        "id": "0980wU8udLyC"
      }
    },
    {
      "cell_type": "code",
      "source": [
        "from sklearn.model_selection import train_test_split\n",
        "x_train,x_val,y_train,y_val=train_test_split(train['images'],train['target'],test_size=0.2, shuffle=True)\n",
        "\n",
        "train_gen = pd.DataFrame({'image_dir': x_train, 'target': y_train})\n",
        "val_gen = pd.DataFrame({'image_dir': x_val, 'target': y_val})"
      ],
      "metadata": {
        "execution": {
          "iopub.status.busy": "2022-04-16T11:09:07.936854Z",
          "iopub.execute_input": "2022-04-16T11:09:07.937157Z",
          "iopub.status.idle": "2022-04-16T11:09:07.948302Z",
          "shell.execute_reply.started": "2022-04-16T11:09:07.937125Z",
          "shell.execute_reply": "2022-04-16T11:09:07.947571Z"
        },
        "trusted": true,
        "id": "xUnmhcsJdLyC"
      },
      "execution_count": 26,
      "outputs": []
    },
    {
      "cell_type": "code",
      "source": [
        "print('Sizes:-')\n",
        "print('train_data: ', train_gen.shape[0])\n",
        "print('test_data: ', val_gen.shape[0])"
      ],
      "metadata": {
        "execution": {
          "iopub.status.busy": "2022-04-16T12:47:14.759773Z",
          "iopub.execute_input": "2022-04-16T12:47:14.761118Z",
          "iopub.status.idle": "2022-04-16T12:47:14.767337Z",
          "shell.execute_reply.started": "2022-04-16T12:47:14.761067Z",
          "shell.execute_reply": "2022-04-16T12:47:14.766584Z"
        },
        "trusted": true,
        "id": "bncKXXrldLyD",
        "colab": {
          "base_uri": "https://localhost:8080/"
        },
        "outputId": "ca138d47-0aaf-4a03-df82-435cca0938fb"
      },
      "execution_count": 27,
      "outputs": [
        {
          "output_type": "stream",
          "name": "stdout",
          "text": [
            "Sizes:-\n",
            "train_data:  10060\n",
            "test_data:  2516\n"
          ]
        }
      ]
    },
    {
      "cell_type": "markdown",
      "source": [
        "# Import Required Libraries"
      ],
      "metadata": {
        "id": "pRX8DePwi133"
      }
    },
    {
      "cell_type": "code",
      "source": [
        "import tensorflow as tf\n",
        "from keras.layers import Dense, Flatten, Conv2D, MaxPooling2D, Dropout, BatchNormalization\n",
        "from keras import layers\n",
        "from keras.metrics import AUC\n",
        "from keras.activations import sigmoid\n",
        "from tensorflow.keras.optimizers import SGD, Adam, Adamax\n",
        "from keras import Model\n",
        "from keras.models import * \n",
        "from keras.preprocessing import image\n",
        "from keras.callbacks import EarlyStopping"
      ],
      "metadata": {
        "id": "3ATrsgq2i68F"
      },
      "execution_count": 28,
      "outputs": []
    },
    {
      "cell_type": "markdown",
      "source": [
        "# Data Augmentation"
      ],
      "metadata": {
        "id": "6NoVP2LwdLyD"
      }
    },
    {
      "cell_type": "code",
      "source": [
        "from tensorflow.keras.preprocessing.image import ImageDataGenerator\n",
        "train_datagen = ImageDataGenerator(\n",
        "    rescale=1./255,\n",
        "    rotation_range=20,\n",
        "    width_shift_range=0.2,\n",
        "    height_shift_range=0.2,\n",
        "    horizontal_flip=True)\n",
        "val_datagen=ImageDataGenerator(rescale=1./255)\n"
      ],
      "metadata": {
        "execution": {
          "iopub.status.busy": "2022-04-16T11:25:44.546969Z",
          "iopub.execute_input": "2022-04-16T11:25:44.547371Z",
          "iopub.status.idle": "2022-04-16T11:25:44.553608Z",
          "shell.execute_reply.started": "2022-04-16T11:25:44.547304Z",
          "shell.execute_reply": "2022-04-16T11:25:44.552595Z"
        },
        "trusted": true,
        "id": "hN4LJL_PdLyD"
      },
      "execution_count": 29,
      "outputs": []
    },
    {
      "cell_type": "code",
      "source": [
        "train_generator = train_datagen.flow_from_dataframe(\n",
        "    train_gen,\n",
        "    x_col='image_dir',\n",
        "    y_col='target',\n",
        "    target_size=(256, 256),\n",
        "    batch_size=32,\n",
        "    shuffle=True,\n",
        "    class_mode='sparse',\n",
        "validate_filenames=True)\n",
        "\n",
        "validation_generator = val_datagen.flow_from_dataframe(\n",
        "    val_gen,\n",
        "    x_col='image_dir',\n",
        "    y_col='target',\n",
        "    target_size=(256, 256),\n",
        "    shuffle=False,\n",
        "    batch_size=32,\n",
        "    class_mode='sparse',\n",
        "validate_filenames=True)"
      ],
      "metadata": {
        "execution": {
          "iopub.status.busy": "2022-04-16T11:25:45.480436Z",
          "iopub.execute_input": "2022-04-16T11:25:45.480750Z",
          "iopub.status.idle": "2022-04-16T11:26:03.029781Z",
          "shell.execute_reply.started": "2022-04-16T11:25:45.480721Z",
          "shell.execute_reply": "2022-04-16T11:26:03.028724Z"
        },
        "trusted": true,
        "id": "cAc1vtV7dLyD",
        "colab": {
          "base_uri": "https://localhost:8080/"
        },
        "outputId": "09e526b0-9115-48b6-ab27-19b3b4a2e54a"
      },
      "execution_count": 30,
      "outputs": [
        {
          "output_type": "stream",
          "name": "stdout",
          "text": [
            "Found 10060 validated image filenames belonging to 3 classes.\n",
            "Found 2516 validated image filenames belonging to 3 classes.\n"
          ]
        }
      ]
    },
    {
      "cell_type": "code",
      "source": [
        "train_generator.class_indices"
      ],
      "metadata": {
        "execution": {
          "iopub.status.busy": "2022-04-16T11:26:03.031650Z",
          "iopub.execute_input": "2022-04-16T11:26:03.032538Z",
          "iopub.status.idle": "2022-04-16T11:26:03.039624Z",
          "shell.execute_reply.started": "2022-04-16T11:26:03.032487Z",
          "shell.execute_reply": "2022-04-16T11:26:03.038700Z"
        },
        "trusted": true,
        "id": "pCIcuwvjdLyD",
        "colab": {
          "base_uri": "https://localhost:8080/"
        },
        "outputId": "e7f03033-d29c-4b1a-96f9-e6d11872c3d2"
      },
      "execution_count": 31,
      "outputs": [
        {
          "output_type": "execute_result",
          "data": {
            "text/plain": [
              "{'COVID': 0, 'NORMAL': 1, 'PNEUMONIA': 2}"
            ]
          },
          "metadata": {},
          "execution_count": 31
        }
      ]
    },
    {
      "cell_type": "markdown",
      "source": [
        "# Model Architecture"
      ],
      "metadata": {
        "id": "xm8BkoeedLyE"
      }
    },
    {
      "cell_type": "code",
      "source": [
        "model = Sequential()\n",
        "\n",
        "model.add(BatchNormalization(input_shape=(256,256,3)))\n",
        "\n",
        "model.add(Conv2D(64, 3, activation='relu', ))\n",
        "model.add(MaxPooling2D())\n",
        "model.add(Dropout(0.3))\n",
        "\n",
        "model.add(Conv2D(128,3,activation='relu'))\n",
        "model.add(MaxPooling2D())\n",
        "\n",
        "model.add(Conv2D(256, 3, activation='relu'))\n",
        "model.add(MaxPooling2D())\n",
        "model.add(Dropout(0.3))\n",
        "\n",
        "model.add(Conv2D(512, 3, activation='relu'))\n",
        "model.add(MaxPooling2D())\n",
        "model.add(Dropout(0.2))\n",
        "\n",
        "model.add(Flatten())\n",
        "\n",
        "model.add(Dense(1024, activation='relu'))\n",
        "model.add(Dropout(0.15))\n",
        "\n",
        "model.add(Dense(3, activation= 'softmax'))"
      ],
      "metadata": {
        "execution": {
          "iopub.status.busy": "2022-04-16T11:28:12.221548Z",
          "iopub.execute_input": "2022-04-16T11:28:12.221847Z",
          "iopub.status.idle": "2022-04-16T11:28:12.997900Z",
          "shell.execute_reply.started": "2022-04-16T11:28:12.221817Z",
          "shell.execute_reply": "2022-04-16T11:28:12.997132Z"
        },
        "trusted": true,
        "id": "HvjFADcWdLyE"
      },
      "execution_count": 32,
      "outputs": []
    },
    {
      "cell_type": "markdown",
      "source": [
        "# Hyperparameters"
      ],
      "metadata": {
        "id": "k42PHROddLyE"
      }
    },
    {
      "cell_type": "code",
      "source": [
        "learning_rate = 1e-3\n",
        "nb_epochs = 30\n",
        "batch_size=32\n",
        "opt = Adam(learning_rate)\n"
      ],
      "metadata": {
        "execution": {
          "iopub.status.busy": "2022-04-16T11:19:13.907006Z",
          "iopub.execute_input": "2022-04-16T11:19:13.907369Z",
          "iopub.status.idle": "2022-04-16T11:19:13.912662Z",
          "shell.execute_reply.started": "2022-04-16T11:19:13.907332Z",
          "shell.execute_reply": "2022-04-16T11:19:13.911663Z"
        },
        "trusted": true,
        "id": "IUsJh1VzdLyE"
      },
      "execution_count": 33,
      "outputs": []
    },
    {
      "cell_type": "markdown",
      "source": [
        "Adam optimizer used with learning rate of 0.001  \n"
      ],
      "metadata": {
        "id": "HB5wqOBPdLyF"
      }
    },
    {
      "cell_type": "code",
      "source": [
        "model.compile(optimizer=opt,loss='sparse_categorical_crossentropy', metrics=['accuracy'])"
      ],
      "metadata": {
        "execution": {
          "iopub.status.busy": "2022-04-16T11:28:18.353283Z",
          "iopub.execute_input": "2022-04-16T11:28:18.353667Z",
          "iopub.status.idle": "2022-04-16T11:28:18.365434Z",
          "shell.execute_reply.started": "2022-04-16T11:28:18.353627Z",
          "shell.execute_reply": "2022-04-16T11:28:18.364554Z"
        },
        "trusted": true,
        "id": "g94t8-9xdLyF"
      },
      "execution_count": 34,
      "outputs": []
    },
    {
      "cell_type": "markdown",
      "source": [
        "# Model Summary"
      ],
      "metadata": {
        "id": "Z0DXnVBEdLyF"
      }
    },
    {
      "cell_type": "code",
      "source": [
        "model.summary()"
      ],
      "metadata": {
        "execution": {
          "iopub.status.busy": "2022-04-16T11:28:42.270073Z",
          "iopub.execute_input": "2022-04-16T11:28:42.270381Z",
          "iopub.status.idle": "2022-04-16T11:28:42.285545Z",
          "shell.execute_reply.started": "2022-04-16T11:28:42.270344Z",
          "shell.execute_reply": "2022-04-16T11:28:42.284665Z"
        },
        "trusted": true,
        "id": "QerQLBXvdLyF",
        "colab": {
          "base_uri": "https://localhost:8080/"
        },
        "outputId": "ee3a9941-c998-41ca-998d-cd4462647878"
      },
      "execution_count": 35,
      "outputs": [
        {
          "output_type": "stream",
          "name": "stdout",
          "text": [
            "Model: \"sequential\"\n",
            "_________________________________________________________________\n",
            " Layer (type)                Output Shape              Param #   \n",
            "=================================================================\n",
            " batch_normalization (BatchN  (None, 256, 256, 3)      12        \n",
            " ormalization)                                                   \n",
            "                                                                 \n",
            " conv2d (Conv2D)             (None, 254, 254, 64)      1792      \n",
            "                                                                 \n",
            " max_pooling2d (MaxPooling2D  (None, 127, 127, 64)     0         \n",
            " )                                                               \n",
            "                                                                 \n",
            " dropout (Dropout)           (None, 127, 127, 64)      0         \n",
            "                                                                 \n",
            " conv2d_1 (Conv2D)           (None, 125, 125, 128)     73856     \n",
            "                                                                 \n",
            " max_pooling2d_1 (MaxPooling  (None, 62, 62, 128)      0         \n",
            " 2D)                                                             \n",
            "                                                                 \n",
            " conv2d_2 (Conv2D)           (None, 60, 60, 256)       295168    \n",
            "                                                                 \n",
            " max_pooling2d_2 (MaxPooling  (None, 30, 30, 256)      0         \n",
            " 2D)                                                             \n",
            "                                                                 \n",
            " dropout_1 (Dropout)         (None, 30, 30, 256)       0         \n",
            "                                                                 \n",
            " conv2d_3 (Conv2D)           (None, 28, 28, 512)       1180160   \n",
            "                                                                 \n",
            " max_pooling2d_3 (MaxPooling  (None, 14, 14, 512)      0         \n",
            " 2D)                                                             \n",
            "                                                                 \n",
            " dropout_2 (Dropout)         (None, 14, 14, 512)       0         \n",
            "                                                                 \n",
            " flatten (Flatten)           (None, 100352)            0         \n",
            "                                                                 \n",
            " dense (Dense)               (None, 1024)              102761472 \n",
            "                                                                 \n",
            " dropout_3 (Dropout)         (None, 1024)              0         \n",
            "                                                                 \n",
            " dense_1 (Dense)             (None, 3)                 3075      \n",
            "                                                                 \n",
            "=================================================================\n",
            "Total params: 104,315,535\n",
            "Trainable params: 104,315,529\n",
            "Non-trainable params: 6\n",
            "_________________________________________________________________\n"
          ]
        }
      ]
    },
    {
      "cell_type": "markdown",
      "source": [
        "**to stop training if validation loss is not decreasing after certain epochs**"
      ],
      "metadata": {
        "id": "ehKqDQL2dLyF"
      }
    },
    {
      "cell_type": "code",
      "source": [
        "early_stop = EarlyStopping(monitor=\"val_loss\", patience=5, restore_best_weights=True)"
      ],
      "metadata": {
        "execution": {
          "iopub.status.busy": "2022-04-16T11:32:45.181408Z",
          "iopub.execute_input": "2022-04-16T11:32:45.181734Z",
          "iopub.status.idle": "2022-04-16T11:32:45.187603Z",
          "shell.execute_reply.started": "2022-04-16T11:32:45.181700Z",
          "shell.execute_reply": "2022-04-16T11:32:45.186505Z"
        },
        "trusted": true,
        "id": "jkUNAfrodLyF"
      },
      "execution_count": 36,
      "outputs": []
    },
    {
      "cell_type": "markdown",
      "source": [
        "# Train Model"
      ],
      "metadata": {
        "id": "wY1kJJP_dLyG"
      }
    },
    {
      "cell_type": "code",
      "source": [
        "hist=model.fit(\n",
        "    train_generator,\n",
        "    epochs=nb_epochs,\n",
        "    verbose=1,\n",
        "    callbacks=[early_stop],\n",
        "    validation_data=validation_generator)"
      ],
      "metadata": {
        "id": "cbnb9zz5fAXS",
        "colab": {
          "base_uri": "https://localhost:8080/"
        },
        "outputId": "32332335-6aa6-482e-fbbd-753f2ca5ddfe"
      },
      "execution_count": 37,
      "outputs": [
        {
          "output_type": "stream",
          "name": "stdout",
          "text": [
            "Epoch 1/30\n",
            "315/315 [==============================] - 301s 903ms/step - loss: 0.9286 - accuracy: 0.6601 - val_loss: 0.6426 - val_accuracy: 0.7365\n",
            "Epoch 2/30\n",
            "315/315 [==============================] - 277s 878ms/step - loss: 0.5654 - accuracy: 0.7308 - val_loss: 0.5772 - val_accuracy: 0.7480\n",
            "Epoch 3/30\n",
            "315/315 [==============================] - 277s 881ms/step - loss: 0.4987 - accuracy: 0.7716 - val_loss: 0.4234 - val_accuracy: 0.8188\n",
            "Epoch 4/30\n",
            "315/315 [==============================] - 284s 902ms/step - loss: 0.4481 - accuracy: 0.7988 - val_loss: 0.3295 - val_accuracy: 0.8665\n",
            "Epoch 5/30\n",
            "315/315 [==============================] - 282s 895ms/step - loss: 0.4097 - accuracy: 0.8189 - val_loss: 0.3712 - val_accuracy: 0.8478\n",
            "Epoch 6/30\n",
            "315/315 [==============================] - 278s 881ms/step - loss: 0.3780 - accuracy: 0.8348 - val_loss: 0.3470 - val_accuracy: 0.8649\n",
            "Epoch 7/30\n",
            "315/315 [==============================] - 279s 885ms/step - loss: 0.3336 - accuracy: 0.8609 - val_loss: 0.2990 - val_accuracy: 0.8843\n",
            "Epoch 8/30\n",
            "315/315 [==============================] - 282s 895ms/step - loss: 0.3272 - accuracy: 0.8617 - val_loss: 0.2493 - val_accuracy: 0.9042\n",
            "Epoch 9/30\n",
            "315/315 [==============================] - 277s 878ms/step - loss: 0.3045 - accuracy: 0.8758 - val_loss: 0.2529 - val_accuracy: 0.8971\n",
            "Epoch 10/30\n",
            "315/315 [==============================] - 274s 868ms/step - loss: 0.2933 - accuracy: 0.8783 - val_loss: 0.2872 - val_accuracy: 0.8895\n",
            "Epoch 11/30\n",
            "315/315 [==============================] - 272s 864ms/step - loss: 0.2748 - accuracy: 0.8861 - val_loss: 0.3047 - val_accuracy: 0.8879\n",
            "Epoch 12/30\n",
            "315/315 [==============================] - 275s 872ms/step - loss: 0.2645 - accuracy: 0.8934 - val_loss: 0.3300 - val_accuracy: 0.8704\n",
            "Epoch 13/30\n",
            "315/315 [==============================] - 279s 885ms/step - loss: 0.2549 - accuracy: 0.9005 - val_loss: 0.2836 - val_accuracy: 0.8808\n"
          ]
        }
      ]
    },
    {
      "cell_type": "markdown",
      "source": [
        "# Plot accuracy and Loss graph"
      ],
      "metadata": {
        "id": "QPbXfC4gdLyG"
      }
    },
    {
      "cell_type": "code",
      "source": [
        "import matplotlib.pyplot as plt\n",
        "# summarize history for accuracy\n",
        "plt.plot(hist.history['accuracy'])\n",
        "plt.plot(hist.history['val_accuracy'])\n",
        "plt.title('model accuracy')\n",
        "plt.ylabel('accuracy')\n",
        "plt.xlabel('epoch')\n",
        "plt.legend(['train', 'test'], loc='upper left')\n",
        "plt.show()\n",
        "# summarize history for loss\n",
        "plt.plot(hist.history['loss'])\n",
        "plt.plot(hist.history['val_loss'])\n",
        "plt.title('model loss')\n",
        "plt.ylabel('loss')\n",
        "plt.xlabel('epoch')\n",
        "plt.legend(['train', 'test'], loc='upper left')\n",
        "plt.show()"
      ],
      "metadata": {
        "execution": {
          "iopub.status.busy": "2022-04-15T12:57:39.889872Z",
          "iopub.execute_input": "2022-04-15T12:57:39.89062Z",
          "iopub.status.idle": "2022-04-15T12:57:39.915338Z",
          "shell.execute_reply.started": "2022-04-15T12:57:39.890577Z",
          "shell.execute_reply": "2022-04-15T12:57:39.91402Z"
        },
        "trusted": true,
        "id": "kuh_aFVpdLyG",
        "colab": {
          "base_uri": "https://localhost:8080/",
          "height": 573
        },
        "outputId": "d17393f7-aa79-4129-8e56-166bf59487c8"
      },
      "execution_count": 38,
      "outputs": [
        {
          "output_type": "display_data",
          "data": {
            "text/plain": [
              "<Figure size 432x288 with 1 Axes>"
            ],
            "image/png": "[encoded data removed]"
          },
          "metadata": {
            "needs_background": "light"
          }
        },
        {
          "output_type": "display_data",
          "data": {
            "text/plain": [
              "<Figure size 432x288 with 1 Axes>"
            ],
            "image/png": "[encoded data removed]"
          },
          "metadata": {
            "needs_background": "light"
          }
        }
      ]
    },
    {
      "cell_type": "markdown",
      "source": [
        "# Save Model"
      ],
      "metadata": {
        "id": "rOirjADTuxWe"
      }
    },
    {
      "cell_type": "code",
      "source": [
        "model.save('CXRS-v1.h5')"
      ],
      "metadata": {
        "id": "XW8IWeaNuwW5"
      },
      "execution_count": 43,
      "outputs": []
    },
    {
      "cell_type": "markdown",
      "source": [
        "# Validation accuracy of model"
      ],
      "metadata": {
        "id": "hsvTGhUKw66y"
      }
    },
    {
      "cell_type": "code",
      "source": [
        "model.evaluate(validation_generator)"
      ],
      "metadata": {
        "colab": {
          "base_uri": "https://localhost:8080/"
        },
        "id": "oQ4zxQRowP3u",
        "outputId": "98ad301a-b221-45f1-d04b-43608b87a3ab"
      },
      "execution_count": 46,
      "outputs": [
        {
          "output_type": "stream",
          "name": "stdout",
          "text": [
            "79/79 [==============================] - 23s 289ms/step - loss: 0.2493 - accuracy: 0.9042\n"
          ]
        },
        {
          "output_type": "execute_result",
          "data": {
            "text/plain": [
              "[0.24925363063812256, 0.904213011264801]"
            ]
          },
          "metadata": {},
          "execution_count": 46
        }
      ]
    },
    {
      "cell_type": "markdown",
      "source": [
        "# Confusion Matrix"
      ],
      "metadata": {
        "id": "M5QvQk1txFrH"
      }
    },
    {
      "cell_type": "code",
      "source": [
        "from sklearn.metrics import confusion_matrix\n",
        "plt.rcParams.update({'font.size': 16})\n",
        "predictions = model.predict(validation_generator)\n",
        "predictions = np.argmax(predictions,axis=1)\n",
        "predictions[:15]\n",
        "cm = confusion_matrix(validation_generator.classes, predictions)\n",
        "cm = pd.DataFrame(cm, index = ['0', '1', '2'], columns = ['0', '1', '2'])\n",
        "cm\n",
        "class_names = ['COVID','NORMAL','VIRAL PNEUMONIA']\n",
        "def plot_confusion_matrix (cm):\n",
        "    plt.figure(figsize = (10,10))\n",
        "    sns.heatmap(\n",
        "        cm, \n",
        "        cmap = 'Blues', \n",
        "        linecolor = 'black', \n",
        "        linewidth = 1, \n",
        "        annot = True, \n",
        "        fmt = '', \n",
        "        xticklabels = class_names, \n",
        "        yticklabels = class_names)\n",
        "    \n",
        "plot_confusion_matrix(cm)"
      ],
      "metadata": {
        "colab": {
          "base_uri": "https://localhost:8080/",
          "height": 602
        },
        "id": "dmACD9aRtoop",
        "outputId": "686b3314-8a46-4855-da36-b577c6844055"
      },
      "execution_count": 39,
      "outputs": [
        {
          "output_type": "display_data",
          "data": {
            "text/plain": [
              "<Figure size 720x720 with 2 Axes>"
            ],
            "image/png": "[encoded data removed]"
          },
          "metadata": {
            "needs_background": "light"
          }
        }
      ]
    },
    {
      "cell_type": "code",
      "source": [
        "from sklearn.metrics import confusion_matrix\n",
        "from sklearn.metrics import ConfusionMatrixDisplay\n",
        "cm = confusion_matrix(validation_generator.classes, predictions, normalize='true')\n",
        "def plot_confusion_matrix (cm):\n",
        "    plt.figure(figsize = (8,8))\n",
        "    sns.heatmap(\n",
        "        cm, \n",
        "        cmap = 'Blues', \n",
        "        linecolor = 'black', \n",
        "        linewidth = 1, \n",
        "        annot = True, \n",
        "        fmt=\".2%\", \n",
        "        xticklabels = class_names, \n",
        "        yticklabels = class_names)\n",
        "    \n",
        "plot_confusion_matrix(cm)"
      ],
      "metadata": {
        "colab": {
          "base_uri": "https://localhost:8080/",
          "height": 488
        },
        "id": "IrCqzaBQt7Bb",
        "outputId": "761a6303-19e3-42b7-a135-a08c06262707"
      },
      "execution_count": 40,
      "outputs": [
        {
          "output_type": "display_data",
          "data": {
            "text/plain": [
              "<Figure size 576x576 with 2 Axes>"
            ],
            "image/png": "[encoded data removed]"
          },
          "metadata": {
            "needs_background": "light"
          }
        }
      ]
    }
  ]
}